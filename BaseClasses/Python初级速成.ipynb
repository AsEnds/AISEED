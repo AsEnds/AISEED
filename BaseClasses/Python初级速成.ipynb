{
 "cells": [
  {
   "cell_type": "markdown",
   "id": "cdae49c4",
   "metadata": {
    "lines_to_next_cell": 0
   },
   "source": [
    "\n",
    "# Python初级速成课程（3天）\n",
    "\n",
    "## 课程目标\n",
    "- 快速掌握Python的基本语法和核心概念\n",
    "- 熟练使用Jupyter Notebook进行编程和测试\n",
    "- 能够编写简单的Python程序，包括函数和类\n",
    "\n",
    "## 课程安排\n",
    "### [第一天：Python基础与环境搭建](#第一天：python基础与环境搭建)\n",
    "1. [引言与环境搭建](#引言与环境搭建)\n",
    "2. [Python基础语法](#python基础语法)\n",
    "\n",
    "### [第二天：数据结构和控制流程](#第二天：数据结构和控制流程)\n",
    "1. [数据结构](#数据结构)\n",
    "2. [控制流程](#控制流程)\n",
    "\n",
    "### [第三天：函数、模块和面向对象编程](#第三天：函数、模块和面向对象编程)\n",
    "1. [函数](#函数)\n",
    "2. [模块与包](#模块与包)\n",
    "3. [文件操作](#文件操作)\n",
    "4. [面向对象编程入门](#面向对象编程入门)\n",
    "5. [综合练习](#综合练习)\n",
    "\n",
    "## 课程安排\n",
    "\n",
    "### 第一天：Python基础与环境搭建\n",
    "\n",
    "#### 1. 引言与环境搭建\n",
    "\n",
    "##### 1.1 Python简介\n",
    "- Python的特点：简洁、易读、跨平台\n",
    "  - 类比：如果编程语言是交流工具，Python就像是一种简单易懂的国际语言，容易学习，适用范围广。\n",
    "- 应用领域：Web开发、数据分析、人工智能等\n",
    "  - 类比：Python就像一把瑞士军刀，可以用于多种不同的任务。\n",
    "\n",
    "##### 1.2 安装与配置\n",
    "- 安装Anaconda发行版\n",
    "  - 类比：Anaconda就像是一个预装了各种工具的工具箱，让你开箱即用。\n",
    "- 配置并熟悉Jupyter Notebook的使用\n",
    "  - 类比：Jupyter Notebook就像是一个智能笔记本，可以同时记录笔记和运行代码。\n",
    "\n",
    "##### 1.3 Jupyter Notebook快速入门\n",
    "- 创建、运行和保存Notebook\n",
    "- Markdown与代码单元的使用\n",
    "  - 类比：Notebook中的单元格就像是乐高积木，可以自由组合文本说明和代码。\n",
    "\n",
    "#### 2. Python基础语法\n",
    "\n",
    "##### 2.1 变量和数据类型"
   ]
  },
  {
   "cell_type": "code",
   "execution_count": 1,
   "id": "e3dd7943",
   "metadata": {},
   "outputs": [
    {
     "name": "stdout",
     "output_type": "stream",
     "text": [
      "年龄: 25, 类型: <class 'int'>\n",
      "身高: 1.75, 类型: <class 'float'>\n",
      "姓名: 张三, 类型: <class 'str'>\n",
      "是否为学生: True, 类型: <class 'bool'>\n",
      "空值: None, 类型: <class 'NoneType'>\n"
     ]
    }
   ],
   "source": [
    "# 变量：想象成带标签的盒子，可以存放不同类型的数据\n",
    "age = 25  # 整数，类比：计数的数字\n",
    "height = 1.75  # 浮点数，类比：带小数点的测量值\n",
    "name = \"张三\"  # 字符串，类比：文本信息\n",
    "is_student = True  # 布尔值，类比：开关状态（开/关）\n",
    "empty_value = None  # None类型，类比：空盒子\n",
    "\n",
    "print(f\"年龄: {age}, 类型: {type(age)}\")\n",
    "print(f\"身高: {height}, 类型: {type(height)}\")\n",
    "print(f\"姓名: {name}, 类型: {type(name)}\")\n",
    "print(f\"是否为学生: {is_student}, 类型: {type(is_student)}\")\n",
    "print(f\"空值: {empty_value}, 类型: {type(empty_value)}\")"
   ]
  },
  {
   "cell_type": "markdown",
   "id": "bafd990c",
   "metadata": {
    "lines_to_next_cell": 0
   },
   "source": [
    "##### 2.2 基本输入输出"
   ]
  },
  {
   "cell_type": "code",
   "execution_count": 2,
   "id": "7727bc2b",
   "metadata": {},
   "outputs": [
    {
     "name": "stdout",
     "output_type": "stream",
     "text": [
      "Hello, World!\n",
      "您好，555!\n"
     ]
    }
   ],
   "source": [
    "# print()函数的使用\n",
    "print(\"Hello, World!\")\n",
    "\n",
    "# input()函数获取用户输入\n",
    "user_input = input(\"请输入您的名字：\")\n",
    "print(f\"您好，{user_input}!\")"
   ]
  },
  {
   "cell_type": "markdown",
   "id": "b2055dd5",
   "metadata": {
    "lines_to_next_cell": 0
   },
   "source": [
    "##### 2.3 运算符与表达式"
   ]
  },
  {
   "cell_type": "code",
   "execution_count": 3,
   "id": "5d608d1a",
   "metadata": {},
   "outputs": [
    {
     "name": "stdout",
     "output_type": "stream",
     "text": [
      "a + b = 13\n",
      "a - b = 7\n",
      "a * b = 30\n",
      "a / b = 3.3333333333333335\n",
      "a // b = 3\n",
      "a % b = 1\n",
      "a ** b = 1000\n",
      "a == b: False\n",
      "a != b: True\n",
      "a > b: True\n",
      "a < b: False\n",
      "x and y: False\n",
      "x or y: True\n",
      "not x: False\n"
     ]
    }
   ],
   "source": [
    "a, b = 10, 3\n",
    "print(f\"a + b = {a + b}\")  # 加法\n",
    "print(f\"a - b = {a - b}\")  # 减法\n",
    "print(f\"a * b = {a * b}\")  # 乘法\n",
    "print(f\"a / b = {a / b}\")  # 除法\n",
    "print(f\"a // b = {a // b}\")  # 整除\n",
    "print(f\"a % b = {a % b}\")  # 取余\n",
    "print(f\"a ** b = {a ** b}\")  # 幂运算\n",
    "\n",
    "print(f\"a == b: {a == b}\")  # 等于\n",
    "print(f\"a != b: {a != b}\")  # 不等于\n",
    "print(f\"a > b: {a > b}\")    # 大于\n",
    "print(f\"a < b: {a < b}\")    # 小于\n",
    "\n",
    "x, y = True, False\n",
    "print(f\"x and y: {x and y}\")  # 与\n",
    "print(f\"x or y: {x or y}\")    # 或\n",
    "print(f\"not x: {not x}\")      # 非"
   ]
  },
  {
   "cell_type": "markdown",
   "id": "c589d8b8",
   "metadata": {
    "lines_to_next_cell": 0
   },
   "source": [
    "### 第二天：数据结构和控制流程\n",
    "\n",
    "#### 3. 数据结构\n",
    "\n",
    "##### 3.1 字符串（String）"
   ]
  },
  {
   "cell_type": "code",
   "execution_count": 4,
   "id": "bda4ebd1",
   "metadata": {},
   "outputs": [
    {
     "name": "stdout",
     "output_type": "stream",
     "text": [
      "原始字符串: Hello, Python!\n",
      "大写: HELLO, PYTHON!\n",
      "小写: hello, python!\n",
      "分割: ['Hello', 'Python!']\n",
      "替换: Hello, World!\n",
      "李四今年30岁。\n"
     ]
    }
   ],
   "source": [
    "text = \"Hello, Python!\"\n",
    "print(f\"原始字符串: {text}\")\n",
    "print(f\"大写: {text.upper()}\")\n",
    "print(f\"小写: {text.lower()}\")\n",
    "print(f\"分割: {text.split(', ')}\")\n",
    "print(f\"替换: {text.replace('Python', 'World')}\")\n",
    "\n",
    "# f-strings（Python 3.6+）\n",
    "name = \"李四\"\n",
    "age = 30\n",
    "print(f\"{name}今年{age}岁。\")"
   ]
  },
  {
   "cell_type": "markdown",
   "id": "7c0b739f",
   "metadata": {
    "lines_to_next_cell": 0
   },
   "source": [
    "##### 3.2 列表（List）"
   ]
  },
  {
   "cell_type": "code",
   "execution_count": 5,
   "id": "a6ee2f6e",
   "metadata": {},
   "outputs": [
    {
     "name": "stdout",
     "output_type": "stream",
     "text": [
      "水果列表: ['苹果', '香蕉', '橙子', '葡萄']\n",
      "第一个水果: 苹果\n",
      "最后一个水果: 葡萄\n",
      "排序后: ['橙子', '苹果', '葡萄', '香蕉']\n",
      "前两个水果: ['橙子', '苹果']\n",
      "橙子\n",
      "苹果\n",
      "葡萄\n",
      "香蕉\n"
     ]
    }
   ],
   "source": [
    "fruits = [\"苹果\", \"香蕉\", \"橙子\"]\n",
    "fruits.append(\"葡萄\")\n",
    "print(f\"水果列表: {fruits}\")\n",
    "print(f\"第一个水果: {fruits[0]}\")\n",
    "print(f\"最后一个水果: {fruits[-1]}\")\n",
    "\n",
    "fruits.sort()\n",
    "print(f\"排序后: {fruits}\")\n",
    "\n",
    "# 列表切片和遍历\n",
    "print(f\"前两个水果: {fruits[:2]}\")\n",
    "for fruit in fruits:\n",
    "    print(fruit)"
   ]
  },
  {
   "cell_type": "markdown",
   "id": "38413eeb",
   "metadata": {
    "lines_to_next_cell": 0
   },
   "source": [
    "##### 3.3 元组（Tuple）"
   ]
  },
  {
   "cell_type": "code",
   "execution_count": 6,
   "id": "3e33aa49",
   "metadata": {},
   "outputs": [
    {
     "name": "stdout",
     "output_type": "stream",
     "text": [
      "x = 10, y = 20\n"
     ]
    }
   ],
   "source": [
    "coordinates = (10, 20)\n",
    "x, y = coordinates  # 元组解包\n",
    "print(f\"x = {x}, y = {y}\")"
   ]
  },
  {
   "cell_type": "markdown",
   "id": "fb0fc60b",
   "metadata": {
    "lines_to_next_cell": 0
   },
   "source": [
    "##### 3.4 字典（Dictionary）"
   ]
  },
  {
   "cell_type": "code",
   "execution_count": 7,
   "id": "05e15fd8",
   "metadata": {},
   "outputs": [
    {
     "name": "stdout",
     "output_type": "stream",
     "text": [
      "人物信息: {'name': '王五', 'age': 35, 'city': '北京'}\n",
      "姓名: 王五\n",
      "键: dict_keys(['name', 'age', 'city'])\n",
      "值: dict_values(['王五', 35, '北京'])\n",
      "键值对: dict_items([('name', '王五'), ('age', 35), ('city', '北京')])\n"
     ]
    }
   ],
   "source": [
    "person = {\"name\": \"王五\", \"age\": 35, \"city\": \"北京\"}\n",
    "print(f\"人物信息: {person}\")\n",
    "print(f\"姓名: {person['name']}\")\n",
    "\n",
    "print(f\"键: {person.keys()}\")\n",
    "print(f\"值: {person.values()}\")\n",
    "print(f\"键值对: {person.items()}\")"
   ]
  },
  {
   "cell_type": "markdown",
   "id": "ccc1e953",
   "metadata": {
    "lines_to_next_cell": 0
   },
   "source": [
    "##### 3.5 集合（Set）"
   ]
  },
  {
   "cell_type": "code",
   "execution_count": 8,
   "id": "eb68cd09",
   "metadata": {},
   "outputs": [
    {
     "name": "stdout",
     "output_type": "stream",
     "text": [
      "并集: {1, 2, 3, 4, 5, 6, 7, 8}\n",
      "交集: {4, 5}\n",
      "差集: {1, 2, 3}\n"
     ]
    }
   ],
   "source": [
    "set1 = {1, 2, 3, 4, 5}\n",
    "set2 = {4, 5, 6, 7, 8}\n",
    "\n",
    "print(f\"并集: {set1 | set2}\")\n",
    "print(f\"交集: {set1 & set2}\")\n",
    "print(f\"差集: {set1 - set2}\")"
   ]
  },
  {
   "cell_type": "markdown",
   "id": "a2bf6b4d",
   "metadata": {
    "lines_to_next_cell": 0
   },
   "source": [
    "#### 4. 控制流程\n",
    "\n",
    "##### 4.1 条件判断"
   ]
  },
  {
   "cell_type": "code",
   "execution_count": 9,
   "id": "f2c6474e",
   "metadata": {},
   "outputs": [
    {
     "name": "stdout",
     "output_type": "stream",
     "text": [
      "及格\n"
     ]
    }
   ],
   "source": [
    "score = 85\n",
    "if score >= 90:\n",
    "    print(\"优秀\")\n",
    "elif score >= 60:\n",
    "    print(\"及格\")\n",
    "else:\n",
    "    print(\"不及格\")"
   ]
  },
  {
   "cell_type": "markdown",
   "id": "c505cd26",
   "metadata": {
    "lines_to_next_cell": 0
   },
   "source": [
    "##### 4.2 循环语句"
   ]
  },
  {
   "cell_type": "code",
   "execution_count": 10,
   "id": "5dd9c4d3",
   "metadata": {},
   "outputs": [
    {
     "name": "stdout",
     "output_type": "stream",
     "text": [
      "0 1 2 3 4 \n",
      "0 1 2 3 4 \n",
      "0 1 2 3 4 \n",
      "1 3 5 7 9 \n"
     ]
    }
   ],
   "source": [
    "# for循环\n",
    "for i in range(5):\n",
    "    print(i, end=\" \")\n",
    "print()\n",
    "\n",
    "# while循环\n",
    "count = 0\n",
    "while count < 5:\n",
    "    print(count, end=\" \")\n",
    "    count += 1\n",
    "print()\n",
    "\n",
    "# break和continue\n",
    "for i in range(10):\n",
    "    if i == 5:\n",
    "        break\n",
    "    print(i, end=\" \")\n",
    "print()\n",
    "\n",
    "for i in range(10):\n",
    "    if i % 2 == 0:\n",
    "        continue\n",
    "    print(i, end=\" \")\n",
    "print()"
   ]
  },
  {
   "cell_type": "markdown",
   "id": "f251a94e",
   "metadata": {
    "lines_to_next_cell": 0
   },
   "source": [
    "##### 4.3 列表推导式"
   ]
  },
  {
   "cell_type": "code",
   "execution_count": 11,
   "id": "4060006e",
   "metadata": {},
   "outputs": [
    {
     "name": "stdout",
     "output_type": "stream",
     "text": [
      "0到9的平方: [0, 1, 4, 9, 16, 25, 36, 49, 64, 81]\n",
      "0到9中偶数的平方: [0, 4, 16, 36, 64]\n"
     ]
    }
   ],
   "source": [
    "squares = [x**2 for x in range(10)]\n",
    "print(f\"0到9的平方: {squares}\")\n",
    "\n",
    "even_squares = [x**2 for x in range(10) if x % 2 == 0]\n",
    "print(f\"0到9中偶数的平方: {even_squares}\")"
   ]
  },
  {
   "cell_type": "markdown",
   "id": "00b94b37",
   "metadata": {
    "lines_to_next_cell": 0
   },
   "source": [
    "### 第三天：函数、模块和面向对象编程\n",
    "\n",
    "#### 5. 函数\n",
    "\n",
    "##### 5.1 函数的定义与调用"
   ]
  },
  {
   "cell_type": "code",
   "execution_count": 12,
   "id": "998c1d9c",
   "metadata": {},
   "outputs": [
    {
     "name": "stdout",
     "output_type": "stream",
     "text": [
      "你好，张三!\n"
     ]
    }
   ],
   "source": [
    "def greet(name):\n",
    "    return f\"你好，{name}!\"\n",
    "\n",
    "print(greet(\"张三\"))"
   ]
  },
  {
   "cell_type": "markdown",
   "id": "7092b73a",
   "metadata": {
    "lines_to_next_cell": 0
   },
   "source": [
    "##### 5.2 参数类型"
   ]
  },
  {
   "cell_type": "code",
   "execution_count": 13,
   "id": "2dcaf3ce",
   "metadata": {},
   "outputs": [
    {
     "name": "stdout",
     "output_type": "stream",
     "text": [
      "李四今年30岁，来自北京。\n",
      "王五今年25岁，来自北京。\n",
      "赵六今年40岁，来自上海。\n"
     ]
    }
   ],
   "source": [
    "def introduce(name, age, city=\"北京\"):\n",
    "    return f\"{name}今年{age}岁，来自{city}。\"\n",
    "\n",
    "print(introduce(\"李四\", 30))  # 位置参数\n",
    "print(introduce(age=25, name=\"王五\"))  # 关键字参数\n",
    "print(introduce(\"赵六\", 40, \"上海\"))  # 使用默认参数"
   ]
  },
  {
   "cell_type": "markdown",
   "id": "9c41103f",
   "metadata": {
    "lines_to_next_cell": 0
   },
   "source": [
    "##### 5.3 作用域"
   ]
  },
  {
   "cell_type": "code",
   "execution_count": 14,
   "id": "b9eeadab",
   "metadata": {},
   "outputs": [
    {
     "name": "stdout",
     "output_type": "stream",
     "text": [
      "我是局部变量\n",
      "我是全局变量\n",
      "我是全局变量\n"
     ]
    }
   ],
   "source": [
    "global_var = \"我是全局变量\"\n",
    "\n",
    "def test_scope():\n",
    "    local_var = \"我是局部变量\"\n",
    "    print(local_var)\n",
    "    print(global_var)\n",
    "\n",
    "test_scope()\n",
    "print(global_var)\n",
    "# print(local_var)  # 这行会报错，因为local_var是局部变量"
   ]
  },
  {
   "cell_type": "markdown",
   "id": "762e729e",
   "metadata": {
    "lines_to_next_cell": 0
   },
   "source": [
    "#### 6. 模块与包\n",
    "\n",
    "##### 6.1 模块的导入"
   ]
  },
  {
   "cell_type": "code",
   "execution_count": 15,
   "id": "8543d44e",
   "metadata": {},
   "outputs": [
    {
     "name": "stdout",
     "output_type": "stream",
     "text": [
      "圆周率: 3.141592653589793\n",
      "1到10的随机数: 6\n"
     ]
    }
   ],
   "source": [
    "import math\n",
    "print(f\"圆周率: {math.pi}\")\n",
    "\n",
    "from random import randint\n",
    "print(f\"1到10的随机数: {randint(1, 10)}\")"
   ]
  },
  {
   "cell_type": "markdown",
   "id": "c70c0356",
   "metadata": {
    "lines_to_next_cell": 0
   },
   "source": [
    "##### 6.2 自定义模块\n",
    "创建一个名为`my_module.py`的文件，内容如下："
   ]
  },
  {
   "cell_type": "code",
   "execution_count": 16,
   "id": "7a2e0bd1",
   "metadata": {},
   "outputs": [],
   "source": [
    "def say_hello(name):\n",
    "    return f\"Hello, {name}!\"\n",
    "\n",
    "PI = 3.14159"
   ]
  },
  {
   "cell_type": "markdown",
   "id": "bf52f52f",
   "metadata": {
    "lines_to_next_cell": 0
   },
   "source": [
    "使用自定义模块："
   ]
  },
  {
   "cell_type": "code",
   "execution_count": 17,
   "id": "d92e7ed3",
   "metadata": {},
   "outputs": [
    {
     "name": "stdout",
     "output_type": "stream",
     "text": [
      "Hello, Python!\n",
      "PI值: 3.14159\n"
     ]
    }
   ],
   "source": [
    "import my_module\n",
    "\n",
    "print(my_module.say_hello(\"Python\"))\n",
    "print(f\"PI值: {my_module.PI}\")"
   ]
  },
  {
   "cell_type": "markdown",
   "id": "a4841502",
   "metadata": {
    "lines_to_next_cell": 0
   },
   "source": [
    "#### 7. 文件操作\n",
    "\n",
    "##### 7.1 文件读写基础"
   ]
  },
  {
   "cell_type": "code",
   "execution_count": 18,
   "id": "f5db7d1b",
   "metadata": {},
   "outputs": [
    {
     "name": "stdout",
     "output_type": "stream",
     "text": [
      "这是第一行。\n",
      "这是第二行。\n",
      "\n"
     ]
    }
   ],
   "source": [
    "# 写入文件\n",
    "with open(\"example.txt\", \"w\") as file:\n",
    "    file.write(\"这是第一行。\\n\")\n",
    "    file.write(\"这是第二行。\\n\")\n",
    "\n",
    "# 读取文件\n",
    "with open(\"example.txt\", \"r\") as file:\n",
    "    content = file.read()\n",
    "    print(content)"
   ]
  },
  {
   "cell_type": "markdown",
   "id": "611c2f2b",
   "metadata": {
    "lines_to_next_cell": 0
   },
   "source": [
    "##### 7.2 上下文管理"
   ]
  },
  {
   "cell_type": "code",
   "execution_count": 19,
   "id": "4ee80ed7",
   "metadata": {},
   "outputs": [
    {
     "name": "stdout",
     "output_type": "stream",
     "text": [
      "这是第一行。\n",
      "这是第二行。\n"
     ]
    }
   ],
   "source": [
    "with open(\"example.txt\", \"r\") as file:\n",
    "    for line in file:\n",
    "        print(line.strip())"
   ]
  },
  {
   "cell_type": "markdown",
   "id": "1e5d8c56",
   "metadata": {
    "lines_to_next_cell": 0
   },
   "source": [
    "#### 8. 面向对象编程入门\n",
    "\n",
    "##### 8.1 类和对象"
   ]
  },
  {
   "cell_type": "code",
   "execution_count": 20,
   "id": "186062a5",
   "metadata": {},
   "outputs": [
    {
     "name": "stdout",
     "output_type": "stream",
     "text": [
      "我叫张三，今年20岁。\n"
     ]
    }
   ],
   "source": [
    "class Student:\n",
    "    def __init__(self, name, age):\n",
    "        self.name = name\n",
    "        self.age = age\n",
    "    \n",
    "    def introduce(self):\n",
    "        return f\"我叫{self.name}，今年{self.age}岁。\"\n",
    "\n",
    "student1 = Student(\"张三\", 20)\n",
    "print(student1.introduce())"
   ]
  },
  {
   "cell_type": "markdown",
   "id": "477065b9",
   "metadata": {
    "lines_to_next_cell": 0
   },
   "source": [
    "##### 8.2 类的属性和方法"
   ]
  },
  {
   "cell_type": "code",
   "execution_count": 21,
   "id": "33fee2a1",
   "metadata": {},
   "outputs": [
    {
     "name": "stdout",
     "output_type": "stream",
     "text": [
      "矩形面积: 15\n",
      "矩形周长: 16\n"
     ]
    }
   ],
   "source": [
    "class Rectangle:\n",
    "    def __init__(self, width, height):\n",
    "        self.width = width\n",
    "        self.height = height\n",
    "    \n",
    "    def area(self):\n",
    "        return self.width * self.height\n",
    "    \n",
    "    def perimeter(self):\n",
    "        return 2 * (self.width + self.height)\n",
    "\n",
    "rect = Rectangle(5, 3)\n",
    "print(f\"矩形面积: {rect.area()}\")\n",
    "print(f\"矩形周长: {rect.perimeter()}\")"
   ]
  },
  {
   "cell_type": "markdown",
   "id": "679929d4",
   "metadata": {
    "lines_to_next_cell": 0
   },
   "source": [
    "#### 9. 综合练习\n",
    "\n",
    "##### 9.1 项目实践：简单通讯录程序"
   ]
  },
  {
   "cell_type": "code",
   "execution_count": 22,
   "id": "aca874fb",
   "metadata": {},
   "outputs": [
    {
     "name": "stdout",
     "output_type": "stream",
     "text": [
      "\n",
      "1. 添加联系人\n",
      "2. 显示所有联系人\n",
      "3. 搜索联系人\n",
      "4. 退出\n",
      "无效选择，请重新输入\n",
      "\n",
      "1. 添加联系人\n",
      "2. 显示所有联系人\n",
      "3. 搜索联系人\n",
      "4. 退出\n",
      "感谢使用，再见!\n"
     ]
    }
   ],
   "source": [
    "class Contact:\n",
    "    def __init__(self, name, phone, email):\n",
    "        self.name = name\n",
    "        self.phone = phone\n",
    "        self.email = email\n",
    "\n",
    "    def __str__(self):\n",
    "        return f\"{self.name}: 电话 {self.phone}, 邮箱 {self.email}\"\n",
    "\n",
    "class AddressBook:\n",
    "    def __init__(self):\n",
    "        self.contacts = []\n",
    "\n",
    "    def add_contact(self, contact):\n",
    "        self.contacts.append(contact)\n",
    "        print(f\"已添加联系人: {contact.name}\")\n",
    "\n",
    "    def display_contacts(self):\n",
    "        if not self.contacts:\n",
    "            print(\"通讯录为空\")\n",
    "        else:\n",
    "            for contact in self.contacts:\n",
    "                print(contact)\n",
    "\n",
    "    def search_contact(self, name):\n",
    "        for contact in self.contacts:\n",
    "            if contact.name.lower() == name.lower():\n",
    "                return contact\n",
    "        return None\n",
    "\n",
    "# 主程序\n",
    "address_book = AddressBook()\n",
    "\n",
    "while True:\n",
    "    print(\"\\n1. 添加联系人\")\n",
    "    print(\"2. 显示所有联系人\")\n",
    "    print(\"3. 搜索联系人\")\n",
    "    print(\"4. 退出\")\n",
    "    \n",
    "    choice = input(\"请选择操作 (1-4): \")\n",
    "    \n",
    "    if choice == '1':\n",
    "        name = input(\"请输入姓名: \")\n",
    "        phone = input(\"请输入电话: \")\n",
    "        email = input(\"请输入邮箱: \")\n",
    "        contact = Contact(name, phone, email)\n",
    "        address_book.add_contact(contact)\n",
    "    elif choice == '2':\n",
    "        address_book.display_contacts()\n",
    "    elif choice == '3':\n",
    "        name = input(\"请输入要搜索的姓名: \")\n",
    "        contact = address_book.search_contact(name)\n",
    "        if contact:\n",
    "            print(contact)\n",
    "        else:\n",
    "            print(\"未找到该联系人\")\n",
    "    elif choice == '4':\n",
    "        print(\"感谢使用，再见!\")\n",
    "        break\n",
    "    else:\n",
    "        print(\"无效选择，请重新输入\")"
   ]
  },
  {
   "cell_type": "markdown",
   "id": "17043157",
   "metadata": {},
   "source": [
    "##### 9.2 课程总结\n",
    "- 回顾重点内容\n",
    "- 答疑解惑\n",
    "- 指导学生独立完成练习\n",
    "\n",
    "## 结语\n",
    "\n",
    "这个Python初级速成课程涵盖了Python编程的基础知识，从基本语法到面向对象编程的入门。通过这三天的学习，您应该能够理解Python的核心概念并开始编写简单的程序。\n",
    "\n",
    "为了进一步提高您的Python技能，建议：\n",
    "1. 继续练习和编写更多的Python程序\n",
    "2. 阅读Python官方文档和其他高质量的学习资源\n",
    "3. 参与开源项目或解决实际问题\n",
    "4. 探索更高级的主题，如数据分析、Web开发或机器学习\n",
    "\n",
    "记住，编程技能的提升需要时间和实践。保持耐心，持续学习，您一定会在Python编程的道路上取得进步。\n",
    "\n",
    "祝您的Python学习之旅愉快且富有成效！"
   ]
  }
 ],
 "metadata": {
  "jupytext": {
   "cell_metadata_filter": "-all",
   "main_language": "python",
   "notebook_metadata_filter": "-all"
  },
  "kernelspec": {
   "display_name": "Python (teach)",
   "language": "python",
   "name": "teach"
  },
  "language_info": {
   "codemirror_mode": {
    "name": "ipython",
    "version": 3
   },
   "file_extension": ".py",
   "mimetype": "text/x-python",
   "name": "python",
   "nbconvert_exporter": "python",
   "pygments_lexer": "ipython3",
   "version": "3.12.5"
  }
 },
 "nbformat": 4,
 "nbformat_minor": 5
}
