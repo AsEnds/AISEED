{
 "cells": [
  {
   "cell_type": "markdown",
   "id": "a16fe608",
   "metadata": {
    "deletable": true,
    "editable": true,
    "frozen": false,
    "lines_to_next_cell": 0
   },
   "source": [
    "# Python初级速成课程（3天）\n",
    "\n",
    "## 课程目标\n",
    "- 快速掌握Python的基本语法和核心概念\n",
    "- 熟练使用Jupyter Notebook进行编程和测试\n",
    "- 能够编写简单的Python程序，包括函数和类\n",
    "\n",
    "## 课程安排\n",
    "\n",
    "### 第一天：Python基础与环境搭建\n",
    "\n",
    "#### 1. 引言与环境搭建\n",
    "\n",
    "##### 1.1 Python简介\n",
    "- Python的特点：简洁、易读、跨平台\n",
    "  - 通俗解释：Python就像是一种简单的国际语言，容易学习，在不同的电脑上都能使用。\n",
    "- 应用领域：Web开发、数据分析、人工智能等\n",
    "  - 通俗解释：Python可以用来制作网站、分析大量数据、甚至让电脑像人一样思考。\n",
    "\n",
    "##### 1.2 安装与配置\n",
    "- 安装Anaconda发行版\n",
    "  - 通俗解释：Anaconda就像是一个预装了各种工具的工具箱，让你可以直接开始使用Python。\n",
    "- 配置并熟悉Jupyter Notebook的使用\n",
    "  - 通俗解释：Jupyter Notebook就像是一个智能笔记本，可以同时写笔记和运行Python代码。\n",
    "\n",
    "##### 1.3 Jupyter Notebook快速入门\n",
    "- 创建、运行和保存Notebook\n",
    "- Markdown与代码单元的使用\n",
    "  - 通俗解释：Notebook中的单元格就像是积木，可以自由组合文字说明和代码。\n",
    "\n",
    "#### 2. Python基础语法\n",
    "\n",
    "##### 2.1 变量和数据类型"
   ]
  },
  {
   "cell_type": "code",
   "execution_count": 5,
   "id": "ac091a47",
   "metadata": {
    "deletable": true,
    "editable": true,
    "frozen": false
   },
   "outputs": [
    {
     "name": "stdout",
     "output_type": "stream",
     "text": [
      "年龄: 25, 类型: <class 'int'>\n",
      "身高: 1.75, 类型: <class 'float'>\n",
      "姓名: 张三, 类型: <class 'str'>\n",
      "是否为学生: True, 类型: <class 'bool'>\n",
      "空值: None, 类型: <class 'NoneType'>\n"
     ]
    }
   ],
   "source": [
    "# 变量：想象成带标签的盒子，可以存放不同类型的数据\n",
    "age = 25  # 整数，就像普通的数字\n",
    "height = 1.75  # 浮点数，就像带小数点的数字\n",
    "name = \"张三\"  # 字符串，就像一串文字\n",
    "is_student = True  # 布尔值，就像开关，只有\"是\"和\"否\"两种状态\n",
    "empty_value = None  # None类型，就像空盒子，表示没有值\n",
    "\n",
    "print(f\"年龄: {age}, 类型: {type(age)}\")\n",
    "print(f\"身高: {height}, 类型: {type(height)}\")\n",
    "print(f\"姓名: {name}, 类型: {type(name)}\")\n",
    "print(f\"是否为学生: {is_student}, 类型: {type(is_student)}\")\n",
    "print(f\"空值: {empty_value}, 类型: {type(empty_value)}\")"
   ]
  },
  {
   "cell_type": "markdown",
   "id": "7a3a2dbf",
   "metadata": {
    "deletable": true,
    "editable": true,
    "frozen": false,
    "lines_to_next_cell": 0
   },
   "source": [
    "##### 2.2 基本输入输出"
   ]
  },
  {
   "cell_type": "code",
   "execution_count": 9,
   "id": "b9031ad4",
   "metadata": {
    "deletable": true,
    "editable": true,
    "frozen": false
   },
   "outputs": [
    {
     "name": "stdout",
     "output_type": "stream",
     "text": [
      "Hello, World!\n"
     ]
    },
    {
     "name": "stdin",
     "output_type": "stream",
     "text": [
      "请输入您的名字： xrh\n"
     ]
    },
    {
     "name": "stdout",
     "output_type": "stream",
     "text": [
      "您好，xrh!\n"
     ]
    }
   ],
   "source": [
    "# print()函数：就像在屏幕上写字\n",
    "print(\"Hello, World!\")\n",
    "\n",
    "# input()函数：就像问用户一个问题并等待回答\n",
    "user_input = input(\"请输入您的名字：\")\n",
    "print(f\"您好，{user_input}!\")"
   ]
  },
  {
   "cell_type": "markdown",
   "id": "cc834de0",
   "metadata": {
    "deletable": true,
    "editable": true,
    "frozen": false,
    "lines_to_next_cell": 0
   },
   "source": [
    "##### 2.3 运算符与表达式"
   ]
  },
  {
   "cell_type": "code",
   "execution_count": 10,
   "id": "a0994fc1",
   "metadata": {
    "deletable": true,
    "editable": true,
    "frozen": false
   },
   "outputs": [
    {
     "name": "stdout",
     "output_type": "stream",
     "text": [
      "a + b = 13\n",
      "a - b = 7\n",
      "a * b = 30\n",
      "a / b = 3.3333333333333335\n",
      "a // b = 3\n",
      "a % b = 1\n",
      "a ** b = 1000\n",
      "a == b: False\n",
      "a != b: True\n",
      "a > b: True\n",
      "x and y: False\n",
      "x or y: True\n",
      "not x: False\n"
     ]
    }
   ],
   "source": [
    "# 运算符：就像数学中的加减乘除\n",
    "a, b = 10, 3\n",
    "print(f\"a + b = {a + b}\")  # 加法\n",
    "print(f\"a - b = {a - b}\")  # 减法\n",
    "print(f\"a * b = {a * b}\")  # 乘法\n",
    "print(f\"a / b = {a / b}\")  # 除法\n",
    "print(f\"a // b = {a // b}\")  # 整除，就像除法但只保留整数部分\n",
    "print(f\"a % b = {a % b}\")  # 取余，就像除法后剩下的余数\n",
    "print(f\"a ** b = {a ** b}\")  # 幂运算，就像a自己乘b次\n",
    "\n",
    "# 比较运算符：就像比较两个东西的大小或是否相等\n",
    "print(f\"a == b: {a == b}\")  # 等于\n",
    "print(f\"a != b: {a != b}\")  # 不等于\n",
    "print(f\"a > b: {a > b}\")    # 大于\n",
    "\n",
    "# 逻辑运算符：就像组合多个条件\n",
    "x, y = True, False\n",
    "print(f\"x and y: {x and y}\")  # 与，两个条件都必须为真\n",
    "print(f\"x or y: {x or y}\")    # 或，至少一个条件为真\n",
    "print(f\"not x: {not x}\")      # 非，条件的反面"
   ]
  },
  {
   "cell_type": "markdown",
   "id": "215715f1",
   "metadata": {
    "deletable": true,
    "editable": true,
    "frozen": false,
    "lines_to_next_cell": 0
   },
   "source": [
    "### 第二天：数据结构和控制流程\n",
    "\n",
    "#### 3. 数据结构\n",
    "\n",
    "##### 3.1 字符串（String）"
   ]
  },
  {
   "cell_type": "code",
   "execution_count": 11,
   "id": "fc09635d",
   "metadata": {
    "deletable": true,
    "editable": true,
    "frozen": false
   },
   "outputs": [
    {
     "name": "stdout",
     "output_type": "stream",
     "text": [
      "原始字符串: Hello, Python!\n",
      "大写: HELLO, PYTHON!\n",
      "小写: hello, python!\n",
      "分割: ['Hello', 'Python!']\n",
      "替换: Hello, World!\n",
      "李四今年30岁。\n"
     ]
    }
   ],
   "source": [
    "# 字符串：类比为一串字符，就像珠子串成的项链\n",
    "text = \"Hello, Python!\"\n",
    "print(f\"原始字符串: {text}\")\n",
    "print(f\"大写: {text.upper()}\")  # 类比：所有字母变大写\n",
    "print(f\"小写: {text.lower()}\")  # 类比：所有字母变小写\n",
    "print(f\"分割: {text.split(', ')}\")  # 类比：按特定标记切割字符串\n",
    "print(f\"替换: {text.replace('Python', 'World')}\")  # 类比：替换特定部分\n",
    "\n",
    "# f-strings：类比为模板，可以填入变量值\n",
    "name = \"李四\"\n",
    "age = 30\n",
    "print(f\"{name}今年{age}岁。\")"
   ]
  },
  {
   "cell_type": "markdown",
   "id": "cb57b211",
   "metadata": {
    "deletable": true,
    "editable": true,
    "frozen": false,
    "lines_to_next_cell": 0
   },
   "source": [
    "##### 3.2 列表（List）"
   ]
  },
  {
   "cell_type": "code",
   "execution_count": 12,
   "id": "1b859cd8",
   "metadata": {
    "deletable": true,
    "editable": true,
    "frozen": false
   },
   "outputs": [
    {
     "name": "stdout",
     "output_type": "stream",
     "text": [
      "水果列表: ['苹果', '香蕉', '橙子', '葡萄']\n",
      "第一个水果: 苹果\n",
      "最后一个水果: 葡萄\n",
      "排序后: ['橙子', '苹果', '葡萄', '香蕉']\n",
      "前两个水果: ['橙子', '苹果']\n",
      "橙子\n",
      "苹果\n",
      "葡萄\n",
      "香蕉\n"
     ]
    }
   ],
   "source": [
    "# 列表：类比为有序的容器，像是一个可以存放多个物品的盒子\n",
    "fruits = [\"苹果\", \"香蕉\", \"橙子\"]\n",
    "fruits.append(\"葡萄\")  # 类比：在盒子末尾添加新物品\n",
    "print(f\"水果列表: {fruits}\")\n",
    "print(f\"第一个水果: {fruits[0]}\")  # 类比：取出盒子中的第一个物品\n",
    "print(f\"最后一个水果: {fruits[-1]}\")  # 类比：取出盒子中的最后一个物品\n",
    "\n",
    "fruits.sort()  # 类比：将盒子中的物品按字母顺序排列\n",
    "print(f\"排序后: {fruits}\")\n",
    "\n",
    "# 列表切片和遍历\n",
    "print(f\"前两个水果: {fruits[:2]}\")  # 类比：取出盒子中的前两个物品\n",
    "for fruit in fruits:  # 类比：逐个检查盒子中的每个物品\n",
    "    print(fruit)"
   ]
  },
  {
   "cell_type": "markdown",
   "id": "8068cf18",
   "metadata": {
    "deletable": true,
    "editable": true,
    "frozen": false,
    "lines_to_next_cell": 0
   },
   "source": [
    "##### 3.3 元组（Tuple）"
   ]
  },
  {
   "cell_type": "code",
   "execution_count": 13,
   "id": "a75773e5",
   "metadata": {
    "deletable": true,
    "editable": true,
    "frozen": false
   },
   "outputs": [
    {
     "name": "stdout",
     "output_type": "stream",
     "text": [
      "x = 10, y = 20\n"
     ]
    }
   ],
   "source": [
    "coordinates = (10, 20)\n",
    "x, y = coordinates  # 元组解包\n",
    "print(f\"x = {x}, y = {y}\")"
   ]
  },
  {
   "cell_type": "markdown",
   "id": "759452ef",
   "metadata": {
    "deletable": true,
    "editable": true,
    "frozen": false,
    "lines_to_next_cell": 0
   },
   "source": [
    "##### 3.4 字典（Dictionary）"
   ]
  },
  {
   "cell_type": "code",
   "execution_count": 14,
   "id": "87813596",
   "metadata": {
    "deletable": true,
    "editable": true,
    "frozen": false
   },
   "outputs": [
    {
     "name": "stdout",
     "output_type": "stream",
     "text": [
      "人物信息: {'name': '王五', 'age': 35, 'city': '北京'}\n",
      "姓名: 王五\n",
      "键: dict_keys(['name', 'age', 'city'])\n",
      "值: dict_values(['王五', 35, '北京'])\n",
      "键值对: dict_items([('name', '王五'), ('age', 35), ('city', '北京')])\n"
     ]
    }
   ],
   "source": [
    "person = {\"name\": \"王五\", \"age\": 35, \"city\": \"北京\"}\n",
    "print(f\"人物信息: {person}\")\n",
    "print(f\"姓名: {person['name']}\")\n",
    "\n",
    "print(f\"键: {person.keys()}\")\n",
    "print(f\"值: {person.values()}\")\n",
    "print(f\"键值对: {person.items()}\")"
   ]
  },
  {
   "cell_type": "markdown",
   "id": "40ebd315",
   "metadata": {
    "deletable": true,
    "editable": true,
    "frozen": false,
    "lines_to_next_cell": 0
   },
   "source": [
    "##### 3.5 集合（Set）"
   ]
  },
  {
   "cell_type": "code",
   "execution_count": 15,
   "id": "176d4563",
   "metadata": {
    "deletable": true,
    "editable": true,
    "frozen": false
   },
   "outputs": [
    {
     "name": "stdout",
     "output_type": "stream",
     "text": [
      "并集: {1, 2, 3, 4, 5, 6, 7, 8}\n",
      "交集: {4, 5}\n",
      "差集: {1, 2, 3}\n"
     ]
    }
   ],
   "source": [
    "set1 = {1, 2, 3, 4, 5}\n",
    "set2 = {4, 5, 6, 7, 8}\n",
    "\n",
    "print(f\"并集: {set1 | set2}\")\n",
    "print(f\"交集: {set1 & set2}\")\n",
    "print(f\"差集: {set1 - set2}\")"
   ]
  },
  {
   "cell_type": "markdown",
   "id": "3b910c36",
   "metadata": {
    "deletable": true,
    "editable": true,
    "frozen": false,
    "lines_to_next_cell": 0
   },
   "source": [
    "#### 4. 控制流程\n",
    "\n",
    "##### 4.1 条件判断"
   ]
  },
  {
   "cell_type": "code",
   "execution_count": 16,
   "id": "2e955c52",
   "metadata": {
    "deletable": true,
    "editable": true,
    "frozen": false
   },
   "outputs": [
    {
     "name": "stdout",
     "output_type": "stream",
     "text": [
      "及格\n"
     ]
    }
   ],
   "source": [
    "score = 85\n",
    "if score >= 90:\n",
    "    print(\"优秀\")\n",
    "elif score >= 60:\n",
    "    print(\"及格\")\n",
    "else:\n",
    "    print(\"不及格\")"
   ]
  },
  {
   "cell_type": "markdown",
   "id": "9c479822",
   "metadata": {
    "deletable": true,
    "editable": true,
    "frozen": false,
    "lines_to_next_cell": 0
   },
   "source": [
    "##### 4.2 循环语句"
   ]
  },
  {
   "cell_type": "code",
   "execution_count": 17,
   "id": "00008e8e",
   "metadata": {
    "deletable": true,
    "editable": true,
    "frozen": false
   },
   "outputs": [
    {
     "name": "stdout",
     "output_type": "stream",
     "text": [
      "0 1 2 3 4 \n",
      "0 1 2 3 4 \n",
      "0 1 2 3 4 \n",
      "1 3 5 7 9 \n"
     ]
    }
   ],
   "source": [
    "# for循环\n",
    "for i in range(5):\n",
    "    print(i, end=\" \")\n",
    "print()\n",
    "\n",
    "# while循环\n",
    "count = 0\n",
    "while count < 5:\n",
    "    print(count, end=\" \")\n",
    "    count += 1\n",
    "print()\n",
    "\n",
    "# break和continue\n",
    "for i in range(10):\n",
    "    if i == 5:\n",
    "        break\n",
    "    print(i, end=\" \")\n",
    "print()\n",
    "\n",
    "for i in range(10):\n",
    "    if i % 2 == 0:\n",
    "        continue\n",
    "    print(i, end=\" \")\n",
    "print()"
   ]
  },
  {
   "cell_type": "markdown",
   "id": "864b6c1a",
   "metadata": {
    "deletable": true,
    "editable": true,
    "frozen": false,
    "lines_to_next_cell": 0
   },
   "source": [
    "##### 4.3 列表推导式"
   ]
  },
  {
   "cell_type": "code",
   "execution_count": 18,
   "id": "2146d81f",
   "metadata": {
    "deletable": true,
    "editable": true,
    "frozen": false
   },
   "outputs": [
    {
     "name": "stdout",
     "output_type": "stream",
     "text": [
      "0到9的平方: [0, 1, 4, 9, 16, 25, 36, 49, 64, 81]\n",
      "0到9中偶数的平方: [0, 4, 16, 36, 64]\n"
     ]
    }
   ],
   "source": [
    "squares = [x**2 for x in range(10)]\n",
    "print(f\"0到9的平方: {squares}\")\n",
    "\n",
    "even_squares = [x**2 for x in range(10) if x % 2 == 0]\n",
    "print(f\"0到9中偶数的平方: {even_squares}\")"
   ]
  },
  {
   "cell_type": "markdown",
   "id": "2d33d152",
   "metadata": {
    "deletable": true,
    "editable": true,
    "frozen": false,
    "lines_to_next_cell": 0
   },
   "source": [
    "### 第三天：函数、模块和面向对象编程\n",
    "\n",
    "#### 5. 函数\n",
    "\n",
    "函数是Python中的一个核心概念，它允许我们将一系列指令打包成一个可重用的代码块。\n",
    "\n",
    "类比：函数就像是一个特定任务的\"食谱\"。你定义了准备这道菜需要的原料（参数）和具体步骤（函数体），然后可以随时按这个食谱来做菜（调用函数）。\n",
    "\n",
    "函数的基本结构："
   ]
  },
  {
   "cell_type": "markdown",
   "id": "9d923cc6-28ac-4598-a191-29bd86afa6b8",
   "metadata": {
    "deletable": true,
    "editable": true,
    "frozen": false
   },
   "source": [
    "```python\n",
    "def 函数名(参数1, 参数2, ...):\n",
    "    # 函数体\n",
    "    # 执行某些操作\n",
    "    return 结果  # 可选\n",
    "```"
   ]
  },
  {
   "cell_type": "markdown",
   "id": "077bb215",
   "metadata": {
    "deletable": true,
    "editable": true,
    "frozen": false,
    "lines_to_next_cell": 0
   },
   "source": [
    "简单的函数示例："
   ]
  },
  {
   "cell_type": "code",
   "execution_count": 20,
   "id": "570bd33f",
   "metadata": {
    "deletable": true,
    "editable": true,
    "frozen": false
   },
   "outputs": [
    {
     "name": "stdout",
     "output_type": "stream",
     "text": [
      "你好，张三!\n",
      "你好，李四!\n"
     ]
    }
   ],
   "source": [
    "def greet(name):\n",
    "    \"\"\"这是函数的文档字符串，用于解释函数的功能\"\"\"\n",
    "    return f\"你好，{name}!\"\n",
    "\n",
    "# 调用函数\n",
    "message = greet(\"张三\")\n",
    "print(message)  # 输出：你好，张三!\n",
    "\n",
    "# 函数可以没有返回值\n",
    "def print_greeting(name):\n",
    "    print(f\"你好，{name}!\")\n",
    "\n",
    "print_greeting(\"李四\")  # 输出：你好，李四!"
   ]
  },
  {
   "cell_type": "markdown",
   "id": "83765059",
   "metadata": {
    "deletable": true,
    "editable": true,
    "frozen": false,
    "lines_to_next_cell": 0
   },
   "source": [
    "函数的优势：\n",
    "1. 代码重用：一次编写，多次使用\n",
    "2. 模块化：将复杂问题分解成小的、可管理的部分\n",
    "3. 可读性：给一系列操作一个有意义的名称\n",
    "4. 可维护性：修改功能只需要改一个地方\n",
    "\n",
    "##### 5.1 函数的定义与调用"
   ]
  },
  {
   "cell_type": "code",
   "execution_count": 21,
   "id": "d0a17282",
   "metadata": {
    "deletable": true,
    "editable": true,
    "frozen": false
   },
   "outputs": [
    {
     "name": "stdout",
     "output_type": "stream",
     "text": [
      "你好，张三!\n"
     ]
    }
   ],
   "source": [
    "def greet(name):\n",
    "    return f\"你好，{name}!\"\n",
    "\n",
    "print(greet(\"张三\"))"
   ]
  },
  {
   "cell_type": "markdown",
   "id": "39db71af",
   "metadata": {
    "deletable": true,
    "editable": true,
    "frozen": false,
    "lines_to_next_cell": 0
   },
   "source": [
    "##### 5.2 参数类型"
   ]
  },
  {
   "cell_type": "code",
   "execution_count": 22,
   "id": "4144afbb",
   "metadata": {
    "deletable": true,
    "editable": true,
    "frozen": false
   },
   "outputs": [
    {
     "name": "stdout",
     "output_type": "stream",
     "text": [
      "李四今年30岁，来自北京。\n",
      "王五今年25岁，来自北京。\n",
      "赵六今年40岁，来自上海。\n"
     ]
    }
   ],
   "source": [
    "def introduce(name, age, city=\"北京\"):\n",
    "    return f\"{name}今年{age}岁，来自{city}。\"\n",
    "\n",
    "print(introduce(\"李四\", 30))  # 位置参数\n",
    "print(introduce(age=25, name=\"王五\"))  # 关键字参数\n",
    "print(introduce(\"赵六\", 40, \"上海\"))  # 使用默认参数"
   ]
  },
  {
   "cell_type": "markdown",
   "id": "505523c8",
   "metadata": {
    "deletable": true,
    "editable": true,
    "frozen": false,
    "lines_to_next_cell": 0
   },
   "source": [
    "##### 5.3 作用域"
   ]
  },
  {
   "cell_type": "code",
   "execution_count": 23,
   "id": "0f3ed728",
   "metadata": {
    "deletable": true,
    "editable": true,
    "frozen": false
   },
   "outputs": [
    {
     "name": "stdout",
     "output_type": "stream",
     "text": [
      "我是局部变量\n",
      "我是全局变量\n",
      "我是全局变量\n"
     ]
    }
   ],
   "source": [
    "global_var = \"我是全局变量\"\n",
    "\n",
    "def test_scope():\n",
    "    local_var = \"我是局部变量\"\n",
    "    print(local_var)\n",
    "    print(global_var)\n",
    "\n",
    "test_scope()\n",
    "print(global_var)\n",
    "# print(local_var)  # 这行会报错，因为local_var是局部变量"
   ]
  },
  {
   "cell_type": "markdown",
   "id": "207eced7",
   "metadata": {
    "deletable": true,
    "editable": true,
    "frozen": false,
    "lines_to_next_cell": 0
   },
   "source": [
    "#### 6. 模块与包\n",
    "\n",
    "##### 6.1 模块的导入"
   ]
  },
  {
   "cell_type": "code",
   "execution_count": 24,
   "id": "d6356c14",
   "metadata": {
    "deletable": true,
    "editable": true,
    "frozen": false
   },
   "outputs": [
    {
     "name": "stdout",
     "output_type": "stream",
     "text": [
      "圆周率: 3.141592653589793\n",
      "1到10的随机数: 10\n"
     ]
    }
   ],
   "source": [
    "import math\n",
    "print(f\"圆周率: {math.pi}\")\n",
    "\n",
    "from random import randint\n",
    "print(f\"1到10的随机数: {randint(1, 10)}\")"
   ]
  },
  {
   "cell_type": "markdown",
   "id": "2dac8cc8",
   "metadata": {
    "deletable": true,
    "editable": true,
    "frozen": false,
    "lines_to_next_cell": 0
   },
   "source": [
    "##### 6.2 自定义模块\n",
    "创建一个名为`my_module.py`的文件，内容如下："
   ]
  },
  {
   "cell_type": "markdown",
   "id": "a37741d7-0472-4349-a5d1-76662e5076ad",
   "metadata": {
    "deletable": true,
    "editable": true,
    "frozen": false
   },
   "source": [
    "```python\n",
    "def say_hello(name):\n",
    "    return f\"Hello, {name}!\"\n",
    "\n",
    "PI = 3.14159\n",
    "```"
   ]
  },
  {
   "cell_type": "markdown",
   "id": "f43d960e",
   "metadata": {
    "deletable": true,
    "editable": true,
    "frozen": false,
    "lines_to_next_cell": 0
   },
   "source": [
    "使用自定义模块："
   ]
  },
  {
   "cell_type": "code",
   "execution_count": 28,
   "id": "7793099f",
   "metadata": {
    "deletable": true,
    "editable": true,
    "frozen": false
   },
   "outputs": [
    {
     "name": "stdout",
     "output_type": "stream",
     "text": [
      "Hello, Python!\n",
      "PI值: 3.14159\n"
     ]
    }
   ],
   "source": [
    "import my_module\n",
    "\n",
    "print(my_module.say_hello(\"Python\"))\n",
    "print(f\"PI值: {my_module.PI}\")"
   ]
  },
  {
   "cell_type": "markdown",
   "id": "65e8b228",
   "metadata": {
    "deletable": true,
    "editable": true,
    "frozen": false,
    "lines_to_next_cell": 0
   },
   "source": [
    "#### 7. 文件操作\n",
    "\n",
    "##### 7.1 文件读写基础"
   ]
  },
  {
   "cell_type": "code",
   "execution_count": 29,
   "id": "bf818e81",
   "metadata": {
    "deletable": true,
    "editable": true,
    "frozen": false
   },
   "outputs": [
    {
     "name": "stdout",
     "output_type": "stream",
     "text": [
      "这是第一行。\n",
      "这是第二行。\n",
      "\n"
     ]
    }
   ],
   "source": [
    "# 写入文件\n",
    "with open(\"example.txt\", \"w\") as file:\n",
    "    file.write(\"这是第一行。\\n\")\n",
    "    file.write(\"这是第二行。\\n\")\n",
    "\n",
    "# 读取文件\n",
    "with open(\"example.txt\", \"r\") as file:\n",
    "    content = file.read()\n",
    "    print(content)"
   ]
  },
  {
   "cell_type": "markdown",
   "id": "91efcc5d",
   "metadata": {
    "deletable": true,
    "editable": true,
    "frozen": false,
    "lines_to_next_cell": 0
   },
   "source": [
    "##### 7.2 上下文管理"
   ]
  },
  {
   "cell_type": "code",
   "execution_count": 30,
   "id": "d158abdf",
   "metadata": {
    "deletable": true,
    "editable": true,
    "frozen": false
   },
   "outputs": [
    {
     "name": "stdout",
     "output_type": "stream",
     "text": [
      "这是第一行。\n",
      "这是第二行。\n"
     ]
    }
   ],
   "source": [
    "with open(\"example.txt\", \"r\") as file:\n",
    "    for line in file:\n",
    "        print(line.strip())"
   ]
  },
  {
   "cell_type": "markdown",
   "id": "98dc1428",
   "metadata": {
    "deletable": true,
    "editable": true,
    "frozen": false,
    "lines_to_next_cell": 0
   },
   "source": [
    "#### 8. 面向对象编程入门\n",
    "\n",
    "##### 8.1 类和对象"
   ]
  },
  {
   "cell_type": "code",
   "execution_count": 31,
   "id": "738cfcbb",
   "metadata": {
    "deletable": true,
    "editable": true,
    "frozen": false
   },
   "outputs": [
    {
     "name": "stdout",
     "output_type": "stream",
     "text": [
      "我叫张三，今年20岁。\n"
     ]
    }
   ],
   "source": [
    "class Student:\n",
    "    def __init__(self, name, age):\n",
    "        self.name = name\n",
    "        self.age = age\n",
    "    \n",
    "    def introduce(self):\n",
    "        return f\"我叫{self.name}，今年{self.age}岁。\"\n",
    "\n",
    "student1 = Student(\"张三\", 20)\n",
    "print(student1.introduce())"
   ]
  },
  {
   "cell_type": "markdown",
   "id": "f7446da7",
   "metadata": {
    "deletable": true,
    "editable": true,
    "frozen": false,
    "lines_to_next_cell": 0
   },
   "source": [
    "##### 8.2 类的属性和方法"
   ]
  },
  {
   "cell_type": "code",
   "execution_count": 32,
   "id": "dc1bca4c",
   "metadata": {
    "deletable": true,
    "editable": true,
    "frozen": false
   },
   "outputs": [
    {
     "name": "stdout",
     "output_type": "stream",
     "text": [
      "矩形面积: 15\n",
      "矩形周长: 16\n"
     ]
    }
   ],
   "source": [
    "class Rectangle:\n",
    "    def __init__(self, width, height):\n",
    "        self.width = width\n",
    "        self.height = height\n",
    "    \n",
    "    def area(self):\n",
    "        return self.width * self.height\n",
    "    \n",
    "    def perimeter(self):\n",
    "        return 2 * (self.width + self.height)\n",
    "\n",
    "rect = Rectangle(5, 3)\n",
    "print(f\"矩形面积: {rect.area()}\")\n",
    "print(f\"矩形周长: {rect.perimeter()}\")"
   ]
  },
  {
   "cell_type": "markdown",
   "id": "df92c999",
   "metadata": {
    "deletable": true,
    "editable": true,
    "frozen": false,
    "lines_to_next_cell": 0
   },
   "source": [
    "#### 9. 综合练习\n",
    "\n",
    "##### 9.1 项目实践：简单通讯录程序"
   ]
  },
  {
   "cell_type": "code",
   "execution_count": 33,
   "id": "c95d3dcb",
   "metadata": {
    "deletable": true,
    "editable": true,
    "frozen": false,
    "lines_to_next_cell": 0
   },
   "outputs": [
    {
     "ename": "SyntaxError",
     "evalue": "invalid character '，' (U+FF0C) (4181648165.py, line 32)",
     "output_type": "error",
     "traceback": [
      "\u001b[1;36m  Cell \u001b[1;32mIn[33], line 32\u001b[1;36m\u001b[0m\n\u001b[1;33m    - 能够编写简单的Python程序，包括函数和类\u001b[0m\n\u001b[1;37m                     ^\u001b[0m\n\u001b[1;31mSyntaxError\u001b[0m\u001b[1;31m:\u001b[0m invalid character '，' (U+FF0C)\n"
     ]
    }
   ],
   "source": [
    "class Contact:\n",
    "    def __init__(self, name, phone, email):\n",
    "        self.name = name\n",
    "        self.phone = phone\n",
    "        self.email = email\n",
    "\n",
    "    def __str__(self):\n",
    "        return f\"{self.name}: 电话 {self.phone}, 邮箱 {self.email}\"\n",
    "\n",
    "class AddressBook:\n",
    "    def __init__(self):\n",
    "        self.contacts = []\n",
    "\n",
    "    def add_contact(self, contact):\n",
    "        self.contacts.append(contact)\n",
    "        print(f\"已添加联系人: {contact.name}\")\n",
    "\n",
    "    def display_contacts(self):\n",
    "        if not self.contacts:\n",
    "            print(\"通讯录为空\")\n",
    "        else:\n",
    "            for contact in self.contacts:\n",
    "                print(contact)\n",
    "\n",
    "    def search_contact(self, name):\n",
    "        for contact in self.contacts:\n",
    "# Python初级速成课程（3天）\n",
    "\n",
    "## 课程目标\n",
    "- 快速掌握Python的基本语法和核心概念\n",
    "- 熟练使用Jupyter Notebook进行编程和测试\n",
    "- 能够编写简单的Python程序，包括函数和类\n",
    "\n",
    "## 课程安排\n",
    "\n",
    "### 第一天：Python基础与环境搭建\n",
    "\n",
    "#### 1. 引言与环境搭建\n",
    "\n",
    "##### 1.1 Python简介\n",
    "- Python的特点：简洁、易读、跨平台\n",
    "  - 类比：如果编程语言是交流工具，Python就像是一种简单易懂的国际语言，容易学习，适用范围广。\n",
    "- 应用领域：Web开发、数据分析、人工智能等\n",
    "  - 类比：Python就像一把瑞士军刀，可以用于多种不同的任务。\n",
    "\n",
    "##### 1.2 安装与配置\n",
    "- 安装Anaconda发行版\n",
    "  - 类比：Anaconda就像是一个预装了各种工具的工具箱，让你开箱即用。\n",
    "- 配置并熟悉Jupyter Notebook的使用\n",
    "  - 类比：Jupyter Notebook就像是一个智能笔记本，可以同时记录笔记和运行代码。\n",
    "\n",
    "##### 1.3 Jupyter Notebook快速入门\n",
    "- 创建、运行和保存Notebook\n",
    "- Markdown与代码单元的使用\n",
    "  - 类比：Notebook中的单元格就像是乐高积木，可以自由组合文本说明和代码。\n",
    "\n",
    "#### 2. Python基础语法\n",
    "\n",
    "##### 2.1 变量和数据类型"
   ]
  },
  {
   "cell_type": "markdown",
   "id": "69a1070b",
   "metadata": {
    "deletable": true,
    "editable": true,
    "frozen": false,
    "lines_to_next_cell": 0
   },
   "source": [
    "# 变量：想象成带标签的盒子，可以存放不同类型的数据\n",
    "age = 25  # 整数，类比：计数的数字\n",
    "height = 1.75  # 浮点数，类比：带小数点的测量值\n",
    "name = \"张三\"  # 字符串，类比：文本信息\n",
    "is_student = True  # 布尔值，类比：开关状态（开/关）\n",
    "empty_value = None  # None类型，类比：空盒子\n",
    "\n",
    "print(f\"年龄: {age}, 类型: {type(age)}\")\n",
    "print(f\"身高: {height}, 类型: {type(height)}\")\n",
    "print(f\"姓名: {name}, 类型: {type(name)}\")\n",
    "print(f\"是否为学生: {is_student}, 类型: {type(is_student)}\")\n",
    "print(f\"空值: {empty_value}, 类型: {type(empty_value)}\")\n",
    "```\n",
    "\n",
    "##### 2.2 基本输入输出\n",
    "```python\n",
    "# print()函数：类比为向屏幕上写字\n",
    "print(\"Hello, World!\")\n",
    "\n",
    "# input()函数：类比为从键盘读取用户输入\n",
    "user_input = input(\"请输入您的名字：\")\n",
    "print(f\"您好，{user_input}!\")\n",
    "```\n",
    "\n",
    "##### 2.3 运算符与表达式"
   ]
  },
  {
   "cell_type": "code",
   "execution_count": 34,
   "id": "4ca9c158",
   "metadata": {
    "deletable": true,
    "editable": true,
    "frozen": false
   },
   "outputs": [
    {
     "name": "stdout",
     "output_type": "stream",
     "text": [
      "a + b = 13\n",
      "a - b = 7\n",
      "a * b = 30\n",
      "a / b = 3.3333333333333335\n",
      "a // b = 3\n",
      "a % b = 1\n",
      "a ** b = 1000\n",
      "a == b: False\n",
      "a != b: True\n",
      "a > b: True\n",
      "x and y: False\n",
      "x or y: True\n",
      "not x: False\n"
     ]
    }
   ],
   "source": [
    "# 运算符：类比为数学运算和逻辑判断的工具\n",
    "a, b = 10, 3\n",
    "print(f\"a + b = {a + b}\")  # 加法，类比：合并\n",
    "print(f\"a - b = {a - b}\")  # 减法，类比：减少\n",
    "print(f\"a * b = {a * b}\")  # 乘法，类比：重复加法\n",
    "print(f\"a / b = {a / b}\")  # 除法，类比：分配\n",
    "print(f\"a // b = {a // b}\")  # 整除，类比：分组\n",
    "print(f\"a % b = {a % b}\")  # 取余，类比：分配后的剩余\n",
    "print(f\"a ** b = {a ** b}\")  # 幂运算，类比：重复乘法\n",
    "\n",
    "# 比较运算符：类比为日常生活中的比较\n",
    "print(f\"a == b: {a == b}\")  # 等于，类比：是否相同\n",
    "print(f\"a != b: {a != b}\")  # 不等于，类比：是否不同\n",
    "print(f\"a > b: {a > b}\")    # 大于，类比：谁更多\n",
    "\n",
    "# 逻辑运算符：类比为日常生活中的逻辑判断\n",
    "x, y = True, False\n",
    "print(f\"x and y: {x and y}\")  # 与，类比：两个条件都满足\n",
    "print(f\"x or y: {x or y}\")    # 或，类比：至少一个条件满足\n",
    "print(f\"not x: {not x}\")      # 非，类比：条件的反面"
   ]
  },
  {
   "cell_type": "markdown",
   "id": "1750b129",
   "metadata": {
    "deletable": true,
    "editable": true,
    "frozen": false,
    "lines_to_next_cell": 0
   },
   "source": [
    "### 第二天：数据结构和控制流程\n",
    "\n",
    "#### 3. 数据结构\n",
    "\n",
    "##### 3.1 字符串（String）"
   ]
  },
  {
   "cell_type": "code",
   "execution_count": 35,
   "id": "941a74f7",
   "metadata": {
    "deletable": true,
    "editable": true,
    "frozen": false
   },
   "outputs": [
    {
     "name": "stdout",
     "output_type": "stream",
     "text": [
      "原始字符串: Hello, Python!\n",
      "大写: HELLO, PYTHON!\n",
      "小写: hello, python!\n",
      "分割: ['Hello', 'Python!']\n",
      "替换: Hello, World!\n",
      "李四今年30岁。\n"
     ]
    }
   ],
   "source": [
    "# 字符串：类比为一串字符，就像珠子串成的项链\n",
    "text = \"Hello, Python!\"\n",
    "print(f\"原始字符串: {text}\")\n",
    "print(f\"大写: {text.upper()}\")  # 类比：所有字母变大写\n",
    "print(f\"小写: {text.lower()}\")  # 类比：所有字母变小写\n",
    "print(f\"分割: {text.split(', ')}\")  # 类比：按特定标记切割字符串\n",
    "print(f\"替换: {text.replace('Python', 'World')}\")  # 类比：替换特定部分\n",
    "\n",
    "# f-strings：类比为模板，可以填入变量值\n",
    "name = \"李四\"\n",
    "age = 30\n",
    "print(f\"{name}今年{age}岁。\")"
   ]
  },
  {
   "cell_type": "markdown",
   "id": "17b459ff",
   "metadata": {
    "deletable": true,
    "editable": true,
    "frozen": false,
    "lines_to_next_cell": 0
   },
   "source": [
    "##### 3.2 列表（List）"
   ]
  },
  {
   "cell_type": "code",
   "execution_count": 36,
   "id": "a86c7f38",
   "metadata": {
    "deletable": true,
    "editable": true,
    "frozen": false
   },
   "outputs": [
    {
     "name": "stdout",
     "output_type": "stream",
     "text": [
      "水果列表: ['苹果', '香蕉', '橙子', '葡萄']\n",
      "第一个水果: 苹果\n",
      "最后一个水果: 葡萄\n",
      "排序后: ['橙子', '苹果', '葡萄', '香蕉']\n",
      "前两个水果: ['橙子', '苹果']\n",
      "橙子\n",
      "苹果\n",
      "葡萄\n",
      "香蕉\n"
     ]
    }
   ],
   "source": [
    "# 列表：类比为有序的容器，像是一个可以存放多个物品的盒子\n",
    "fruits = [\"苹果\", \"香蕉\", \"橙子\"]\n",
    "fruits.append(\"葡萄\")  # 类比：在盒子末尾添加新物品\n",
    "print(f\"水果列表: {fruits}\")\n",
    "print(f\"第一个水果: {fruits[0]}\")  # 类比：取出盒子中的第一个物品\n",
    "print(f\"最后一个水果: {fruits[-1]}\")  # 类比：取出盒子中的最后一个物品\n",
    "\n",
    "fruits.sort()  # 类比：将盒子中的物品按字母顺序排列\n",
    "print(f\"排序后: {fruits}\")\n",
    "\n",
    "# 列表切片和遍历\n",
    "print(f\"前两个水果: {fruits[:2]}\")  # 类比：取出盒子中的前两个物品\n",
    "for fruit in fruits:  # 类比：逐个检查盒子中的每个物品\n",
    "    print(fruit)"
   ]
  },
  {
   "cell_type": "markdown",
   "id": "475607ee",
   "metadata": {
    "deletable": true,
    "editable": true,
    "frozen": false,
    "lines_to_next_cell": 0
   },
   "source": [
    "##### 3.3 元组（Tuple）"
   ]
  },
  {
   "cell_type": "code",
   "execution_count": 37,
   "id": "f5d3bd4d",
   "metadata": {
    "deletable": true,
    "editable": true,
    "frozen": false
   },
   "outputs": [
    {
     "name": "stdout",
     "output_type": "stream",
     "text": [
      "x = 10, y = 20\n"
     ]
    }
   ],
   "source": [
    "coordinates = (10, 20)\n",
    "x, y = coordinates  # 元组解包\n",
    "print(f\"x = {x}, y = {y}\")"
   ]
  },
  {
   "cell_type": "markdown",
   "id": "f6cf8270",
   "metadata": {
    "deletable": true,
    "editable": true,
    "frozen": false,
    "lines_to_next_cell": 0
   },
   "source": [
    "##### 3.4 字典（Dictionary）"
   ]
  },
  {
   "cell_type": "code",
   "execution_count": 38,
   "id": "bf24af4d",
   "metadata": {
    "deletable": true,
    "editable": true,
    "frozen": false
   },
   "outputs": [
    {
     "name": "stdout",
     "output_type": "stream",
     "text": [
      "人物信息: {'name': '王五', 'age': 35, 'city': '北京'}\n",
      "姓名: 王五\n",
      "键: dict_keys(['name', 'age', 'city'])\n",
      "值: dict_values(['王五', 35, '北京'])\n",
      "键值对: dict_items([('name', '王五'), ('age', 35), ('city', '北京')])\n"
     ]
    }
   ],
   "source": [
    "person = {\"name\": \"王五\", \"age\": 35, \"city\": \"北京\"}\n",
    "print(f\"人物信息: {person}\")\n",
    "print(f\"姓名: {person['name']}\")\n",
    "\n",
    "print(f\"键: {person.keys()}\")\n",
    "print(f\"值: {person.values()}\")\n",
    "print(f\"键值对: {person.items()}\")"
   ]
  },
  {
   "cell_type": "markdown",
   "id": "c4869bcf",
   "metadata": {
    "deletable": true,
    "editable": true,
    "frozen": false,
    "lines_to_next_cell": 0
   },
   "source": [
    "##### 3.5 集合（Set）"
   ]
  },
  {
   "cell_type": "code",
   "execution_count": 39,
   "id": "e93e15aa",
   "metadata": {
    "deletable": true,
    "editable": true,
    "frozen": false
   },
   "outputs": [
    {
     "name": "stdout",
     "output_type": "stream",
     "text": [
      "并集: {1, 2, 3, 4, 5, 6, 7, 8}\n",
      "交集: {4, 5}\n",
      "差集: {1, 2, 3}\n"
     ]
    }
   ],
   "source": [
    "set1 = {1, 2, 3, 4, 5}\n",
    "set2 = {4, 5, 6, 7, 8}\n",
    "\n",
    "print(f\"并集: {set1 | set2}\")\n",
    "print(f\"交集: {set1 & set2}\")\n",
    "print(f\"差集: {set1 - set2}\")"
   ]
  },
  {
   "cell_type": "markdown",
   "id": "d79b7511",
   "metadata": {
    "deletable": true,
    "editable": true,
    "frozen": false,
    "lines_to_next_cell": 0
   },
   "source": [
    "#### 4. 控制流程\n",
    "\n",
    "##### 4.1 条件判断"
   ]
  },
  {
   "cell_type": "code",
   "execution_count": 40,
   "id": "a490b5be",
   "metadata": {
    "deletable": true,
    "editable": true,
    "frozen": false
   },
   "outputs": [
    {
     "name": "stdout",
     "output_type": "stream",
     "text": [
      "及格\n"
     ]
    }
   ],
   "source": [
    "score = 85\n",
    "if score >= 90:\n",
    "    print(\"优秀\")\n",
    "elif score >= 60:\n",
    "    print(\"及格\")\n",
    "else:\n",
    "    print(\"不及格\")"
   ]
  },
  {
   "cell_type": "markdown",
   "id": "7448cd38",
   "metadata": {
    "deletable": true,
    "editable": true,
    "frozen": false,
    "lines_to_next_cell": 0
   },
   "source": [
    "##### 4.2 循环语句"
   ]
  },
  {
   "cell_type": "code",
   "execution_count": 41,
   "id": "6a4620f3",
   "metadata": {
    "deletable": true,
    "editable": true,
    "frozen": false
   },
   "outputs": [
    {
     "name": "stdout",
     "output_type": "stream",
     "text": [
      "0 1 2 3 4 \n",
      "0 1 2 3 4 \n",
      "0 1 2 3 4 \n",
      "1 3 5 7 9 \n"
     ]
    }
   ],
   "source": [
    "# for循环\n",
    "for i in range(5):\n",
    "    print(i, end=\" \")\n",
    "print()\n",
    "\n",
    "# while循环\n",
    "count = 0\n",
    "while count < 5:\n",
    "    print(count, end=\" \")\n",
    "    count += 1\n",
    "print()\n",
    "\n",
    "# break和continue\n",
    "for i in range(10):\n",
    "    if i == 5:\n",
    "        break\n",
    "    print(i, end=\" \")\n",
    "print()\n",
    "\n",
    "for i in range(10):\n",
    "    if i % 2 == 0:\n",
    "        continue\n",
    "    print(i, end=\" \")\n",
    "print()"
   ]
  },
  {
   "cell_type": "markdown",
   "id": "cd757d88",
   "metadata": {
    "deletable": true,
    "editable": true,
    "frozen": false,
    "lines_to_next_cell": 0
   },
   "source": [
    "##### 4.3 列表推导式"
   ]
  },
  {
   "cell_type": "code",
   "execution_count": 42,
   "id": "ca539868",
   "metadata": {
    "deletable": true,
    "editable": true,
    "frozen": false
   },
   "outputs": [
    {
     "name": "stdout",
     "output_type": "stream",
     "text": [
      "0到9的平方: [0, 1, 4, 9, 16, 25, 36, 49, 64, 81]\n",
      "0到9中偶数的平方: [0, 4, 16, 36, 64]\n"
     ]
    }
   ],
   "source": [
    "squares = [x**2 for x in range(10)]\n",
    "print(f\"0到9的平方: {squares}\")\n",
    "\n",
    "even_squares = [x**2 for x in range(10) if x % 2 == 0]\n",
    "print(f\"0到9中偶数的平方: {even_squares}\")"
   ]
  },
  {
   "cell_type": "markdown",
   "id": "50f470e5",
   "metadata": {
    "deletable": true,
    "editable": true,
    "frozen": false,
    "lines_to_next_cell": 0
   },
   "source": [
    "### 第三天：函数、模块和面向对象编程\n",
    "\n",
    "#### 5. 函数\n",
    "\n",
    "函数是Python中的一个核心概念，它允许我们将一系列指令打包成一个可重用的代码块。\n",
    "\n",
    "类比：函数就像是一个特定任务的\"食谱\"。你定义了准备这道菜需要的原料（参数）和具体步骤（函数体），然后可以随时按这个食谱来做菜（调用函数）。\n",
    "\n",
    "函数的基本结构："
   ]
  },
  {
   "cell_type": "code",
   "execution_count": 43,
   "id": "55d3863b",
   "metadata": {
    "deletable": true,
    "editable": true,
    "frozen": false
   },
   "outputs": [
    {
     "ename": "SyntaxError",
     "evalue": "invalid syntax (4083273164.py, line 1)",
     "output_type": "error",
     "traceback": [
      "\u001b[1;36m  Cell \u001b[1;32mIn[43], line 1\u001b[1;36m\u001b[0m\n\u001b[1;33m    def 函数名(参数1, 参数2, ...):\u001b[0m\n\u001b[1;37m                      ^\u001b[0m\n\u001b[1;31mSyntaxError\u001b[0m\u001b[1;31m:\u001b[0m invalid syntax\n"
     ]
    }
   ],
   "source": [
    "def 函数名(参数1, 参数2, ...):\n",
    "    # 函数体\n",
    "    # 执行某些操作\n",
    "    return 结果  # 可选"
   ]
  },
  {
   "cell_type": "markdown",
   "id": "4a054b65",
   "metadata": {
    "deletable": true,
    "editable": true,
    "frozen": false,
    "lines_to_next_cell": 0
   },
   "source": [
    "简单的函数示例："
   ]
  },
  {
   "cell_type": "code",
   "execution_count": 44,
   "id": "f28ccba6",
   "metadata": {
    "deletable": true,
    "editable": true,
    "frozen": false
   },
   "outputs": [
    {
     "name": "stdout",
     "output_type": "stream",
     "text": [
      "你好，张三!\n",
      "你好，李四!\n"
     ]
    }
   ],
   "source": [
    "def greet(name):\n",
    "    \"\"\"这是函数的文档字符串，用于解释函数的功能\"\"\"\n",
    "    return f\"你好，{name}!\"\n",
    "\n",
    "# 调用函数\n",
    "message = greet(\"张三\")\n",
    "print(message)  # 输出：你好，张三!\n",
    "\n",
    "# 函数可以没有返回值\n",
    "def print_greeting(name):\n",
    "    print(f\"你好，{name}!\")\n",
    "\n",
    "print_greeting(\"李四\")  # 输出：你好，李四!"
   ]
  },
  {
   "cell_type": "markdown",
   "id": "021b9d6a",
   "metadata": {
    "deletable": true,
    "editable": true,
    "frozen": false,
    "lines_to_next_cell": 0
   },
   "source": [
    "函数的优势：\n",
    "1. 代码重用：一次编写，多次使用\n",
    "2. 模块化：将复杂问题分解成小的、可管理的部分\n",
    "3. 可读性：给一系列操作一个有意义的名称\n",
    "4. 可维护性：修改功能只需要改一个地方\n",
    "\n",
    "##### 5.1 函数的定义与调用"
   ]
  },
  {
   "cell_type": "code",
   "execution_count": 45,
   "id": "2b24770f",
   "metadata": {
    "deletable": true,
    "editable": true,
    "frozen": false
   },
   "outputs": [
    {
     "name": "stdout",
     "output_type": "stream",
     "text": [
      "你好，张三!\n"
     ]
    }
   ],
   "source": [
    "def greet(name):\n",
    "    return f\"你好，{name}!\"\n",
    "\n",
    "print(greet(\"张三\"))"
   ]
  },
  {
   "cell_type": "markdown",
   "id": "e60b4127",
   "metadata": {
    "deletable": true,
    "editable": true,
    "frozen": false,
    "lines_to_next_cell": 0
   },
   "source": [
    "##### 5.2 参数类型"
   ]
  },
  {
   "cell_type": "code",
   "execution_count": 46,
   "id": "246a0415",
   "metadata": {
    "deletable": true,
    "editable": true,
    "frozen": false
   },
   "outputs": [
    {
     "name": "stdout",
     "output_type": "stream",
     "text": [
      "李四今年30岁，来自北京。\n",
      "王五今年25岁，来自北京。\n",
      "赵六今年40岁，来自上海。\n"
     ]
    }
   ],
   "source": [
    "def introduce(name, age, city=\"北京\"):\n",
    "    return f\"{name}今年{age}岁，来自{city}。\"\n",
    "\n",
    "print(introduce(\"李四\", 30))  # 位置参数\n",
    "print(introduce(age=25, name=\"王五\"))  # 关键字参数\n",
    "print(introduce(\"赵六\", 40, \"上海\"))  # 使用默认参数"
   ]
  },
  {
   "cell_type": "markdown",
   "id": "84a4ec30",
   "metadata": {
    "deletable": true,
    "editable": true,
    "frozen": false,
    "lines_to_next_cell": 0
   },
   "source": [
    "##### 5.3 作用域"
   ]
  },
  {
   "cell_type": "code",
   "execution_count": 47,
   "id": "f49d1aad",
   "metadata": {
    "deletable": true,
    "editable": true,
    "frozen": false
   },
   "outputs": [
    {
     "name": "stdout",
     "output_type": "stream",
     "text": [
      "我是局部变量\n",
      "我是全局变量\n",
      "我是全局变量\n"
     ]
    }
   ],
   "source": [
    "global_var = \"我是全局变量\"\n",
    "\n",
    "def test_scope():\n",
    "    local_var = \"我是局部变量\"\n",
    "    print(local_var)\n",
    "    print(global_var)\n",
    "\n",
    "test_scope()\n",
    "print(global_var)\n",
    "# print(local_var)  # 这行会报错，因为local_var是局部变量"
   ]
  },
  {
   "cell_type": "markdown",
   "id": "3650c973",
   "metadata": {
    "deletable": true,
    "editable": true,
    "frozen": false,
    "lines_to_next_cell": 0
   },
   "source": [
    "#### 6. 模块与包\n",
    "\n",
    "##### 6.1 模块的导入"
   ]
  },
  {
   "cell_type": "code",
   "execution_count": 48,
   "id": "d151da80",
   "metadata": {
    "deletable": true,
    "editable": true,
    "frozen": false
   },
   "outputs": [
    {
     "name": "stdout",
     "output_type": "stream",
     "text": [
      "圆周率: 3.141592653589793\n",
      "1到10的随机数: 1\n"
     ]
    }
   ],
   "source": [
    "import math\n",
    "print(f\"圆周率: {math.pi}\")\n",
    "\n",
    "from random import randint\n",
    "print(f\"1到10的随机数: {randint(1, 10)}\")"
   ]
  },
  {
   "cell_type": "markdown",
   "id": "0c10c12c",
   "metadata": {
    "deletable": true,
    "editable": true,
    "frozen": false,
    "lines_to_next_cell": 0
   },
   "source": [
    "##### 6.2 自定义模块\n",
    "创建一个名为`my_module.py`的文件，内容如下："
   ]
  },
  {
   "cell_type": "code",
   "execution_count": 49,
   "id": "ed7512e1",
   "metadata": {
    "deletable": true,
    "editable": true,
    "frozen": false
   },
   "outputs": [],
   "source": [
    "def say_hello(name):\n",
    "    return f\"Hello, {name}!\"\n",
    "\n",
    "PI = 3.14159"
   ]
  },
  {
   "cell_type": "markdown",
   "id": "c45ea37d",
   "metadata": {
    "deletable": true,
    "editable": true,
    "frozen": false,
    "lines_to_next_cell": 0
   },
   "source": [
    "使用自定义模块："
   ]
  },
  {
   "cell_type": "code",
   "execution_count": 50,
   "id": "cdfe1aef",
   "metadata": {
    "deletable": true,
    "editable": true,
    "frozen": false
   },
   "outputs": [
    {
     "name": "stdout",
     "output_type": "stream",
     "text": [
      "Hello, Python!\n",
      "PI值: 3.14159\n"
     ]
    }
   ],
   "source": [
    "import my_module\n",
    "\n",
    "print(my_module.say_hello(\"Python\"))\n",
    "print(f\"PI值: {my_module.PI}\")"
   ]
  },
  {
   "cell_type": "markdown",
   "id": "c6af37e0",
   "metadata": {
    "deletable": true,
    "editable": true,
    "frozen": false,
    "lines_to_next_cell": 0
   },
   "source": [
    "#### 7. 文件操作\n",
    "\n",
    "##### 7.1 文件读写基础"
   ]
  },
  {
   "cell_type": "code",
   "execution_count": 51,
   "id": "6d8eda16",
   "metadata": {
    "deletable": true,
    "editable": true,
    "frozen": false
   },
   "outputs": [
    {
     "name": "stdout",
     "output_type": "stream",
     "text": [
      "这是第一行。\n",
      "这是第二行。\n",
      "\n"
     ]
    }
   ],
   "source": [
    "# 写入文件\n",
    "with open(\"example.txt\", \"w\") as file:\n",
    "    file.write(\"这是第一行。\\n\")\n",
    "    file.write(\"这是第二行。\\n\")\n",
    "\n",
    "# 读取文件\n",
    "with open(\"example.txt\", \"r\") as file:\n",
    "    content = file.read()\n",
    "    print(content)"
   ]
  },
  {
   "cell_type": "markdown",
   "id": "0b227799",
   "metadata": {
    "deletable": true,
    "editable": true,
    "frozen": false,
    "lines_to_next_cell": 0
   },
   "source": [
    "##### 7.2 上下文管理"
   ]
  },
  {
   "cell_type": "code",
   "execution_count": 52,
   "id": "b06ab70a",
   "metadata": {
    "deletable": true,
    "editable": true,
    "frozen": false
   },
   "outputs": [
    {
     "name": "stdout",
     "output_type": "stream",
     "text": [
      "这是第一行。\n",
      "这是第二行。\n"
     ]
    }
   ],
   "source": [
    "with open(\"example.txt\", \"r\") as file:\n",
    "    for line in file:\n",
    "        print(line.strip())"
   ]
  },
  {
   "cell_type": "markdown",
   "id": "9ab4798b",
   "metadata": {
    "deletable": true,
    "editable": true,
    "frozen": false,
    "lines_to_next_cell": 0
   },
   "source": [
    "#### 8. 面向对象编程入门\n",
    "\n",
    "##### 8.1 类和对象"
   ]
  },
  {
   "cell_type": "code",
   "execution_count": 53,
   "id": "312b14d5",
   "metadata": {
    "deletable": true,
    "editable": true,
    "frozen": false
   },
   "outputs": [
    {
     "name": "stdout",
     "output_type": "stream",
     "text": [
      "我叫张三，今年20岁。\n"
     ]
    }
   ],
   "source": [
    "class Student:\n",
    "    def __init__(self, name, age):\n",
    "        self.name = name\n",
    "        self.age = age\n",
    "    \n",
    "    def introduce(self):\n",
    "        return f\"我叫{self.name}，今年{self.age}岁。\"\n",
    "\n",
    "student1 = Student(\"张三\", 20)\n",
    "print(student1.introduce())"
   ]
  },
  {
   "cell_type": "markdown",
   "id": "c9dc874f",
   "metadata": {
    "deletable": true,
    "editable": true,
    "frozen": false,
    "lines_to_next_cell": 0
   },
   "source": [
    "##### 8.2 类的属性和方法"
   ]
  },
  {
   "cell_type": "code",
   "execution_count": 54,
   "id": "8536785d",
   "metadata": {
    "deletable": true,
    "editable": true,
    "frozen": false
   },
   "outputs": [
    {
     "name": "stdout",
     "output_type": "stream",
     "text": [
      "矩形面积: 15\n",
      "矩形周长: 16\n"
     ]
    }
   ],
   "source": [
    "class Rectangle:\n",
    "    def __init__(self, width, height):\n",
    "        self.width = width\n",
    "        self.height = height\n",
    "    \n",
    "    def area(self):\n",
    "        return self.width * self.height\n",
    "    \n",
    "    def perimeter(self):\n",
    "        return 2 * (self.width + self.height)\n",
    "\n",
    "rect = Rectangle(5, 3)\n",
    "print(f\"矩形面积: {rect.area()}\")\n",
    "print(f\"矩形周长: {rect.perimeter()}\")"
   ]
  },
  {
   "cell_type": "markdown",
   "id": "7b770dff",
   "metadata": {
    "deletable": true,
    "editable": true,
    "frozen": false,
    "lines_to_next_cell": 0
   },
   "source": [
    "#### 9. 综合练习\n",
    "\n",
    "##### 9.1 项目实践：简单通讯录程序"
   ]
  },
  {
   "cell_type": "code",
   "execution_count": 55,
   "id": "aeb21036",
   "metadata": {
    "deletable": true,
    "editable": true,
    "frozen": false,
    "lines_to_next_cell": 0
   },
   "outputs": [
    {
     "ename": "SyntaxError",
     "evalue": "invalid character '，' (U+FF0C) (3525691934.py, line 28)",
     "output_type": "error",
     "traceback": [
      "\u001b[1;36m  Cell \u001b[1;32mIn[55], line 28\u001b[1;36m\u001b[0m\n\u001b[1;33m    - 能够编写简单的Python程序，包括函数和类\u001b[0m\n\u001b[1;37m                     ^\u001b[0m\n\u001b[1;31mSyntaxError\u001b[0m\u001b[1;31m:\u001b[0m invalid character '，' (U+FF0C)\n"
     ]
    }
   ],
   "source": [
    "class Contact:\n",
    "    def __init__(self, name, phone, email):\n",
    "        self.name = name\n",
    "        self.phone = phone\n",
    "        self.email = email\n",
    "\n",
    "    def __str__(self):\n",
    "        return f\"{self.name}: 电话 {self.phone}, 邮箱 {self.email}\"\n",
    "\n",
    "class AddressBook:\n",
    "    def __init__(self):\n",
    "        self.contacts = []\n",
    "\n",
    "    def add_contact(self, contact):\n",
    "        self.contacts.append(contact)\n",
    "        print(f\"已添加联系人: {contact.name}\")\n",
    "\n",
    "    def display_contacts(self):\n",
    "        if not self.contacts:\n",
    "            print(\"通讯录为空\")\n",
    "        else:\n",
    "            for contact in self.contacts:\n",
    "# Python初级速成课程（3天）\n",
    "\n",
    "## 课程目标\n",
    "- 快速掌握Python的基本语法和核心概念\n",
    "- 熟练使用Jupyter Notebook进行编程和测试\n",
    "- 能够编写简单的Python程序，包括函数和类\n",
    "\n",
    "## 课程安排\n",
    "\n",
    "### 第一天：Python基础与环境搭建\n",
    "\n",
    "#### 1. 引言与环境搭建\n",
    "\n",
    "##### 1.1 Python简介\n",
    "- Python的特点：简洁、易读、跨平台\n",
    "  - 类比：如果编程语言是交流工具，Python就像是一种简单易懂的国际语言，容易学习，适用范围广。\n",
    "- 应用领域：Web开发、数据分析、人工智能等\n",
    "  - 类比：Python就像一把瑞士军刀，可以用于多种不同的任务。\n",
    "\n",
    "##### 1.2 安装与配置\n",
    "- 安装Anaconda发行版\n",
    "  - 类比：Anaconda就像是一个预装了各种工具的工具箱，让你开箱即用。\n",
    "- 配置并熟悉Jupyter Notebook的使用\n",
    "  - 类比：Jupyter Notebook就像是一个智能笔记本，可以同时记录笔记和运行代码。\n",
    "\n",
    "##### 1.3 Jupyter Notebook快速入门\n",
    "- 创建、运行和保存Notebook\n",
    "- Markdown与代码单元的使用\n",
    "  - 类比：Notebook中的单元格就像是乐高积木，可以自由组合文本说明和代码。\n",
    "\n",
    "#### 2. Python基础语法\n",
    "\n",
    "##### 2.1 变量和数据类型"
   ]
  },
  {
   "cell_type": "markdown",
   "id": "e1319b2b",
   "metadata": {
    "deletable": true,
    "editable": true,
    "frozen": false,
    "lines_to_next_cell": 0
   },
   "source": [
    "# 变量：想象成带标签的盒子，可以存放不同类型的数据\n",
    "age = 25  # 整数，类比：计数的数字\n",
    "height = 1.75  # 浮点数，类比：带小数点的测量值\n",
    "name = \"张三\"  # 字符串，类比：文本信息\n",
    "is_student = True  # 布尔值，类比：开关状态（开/关）\n",
    "empty_value = None  # None类型，类比：空盒子\n",
    "\n",
    "print(f\"年龄: {age}, 类型: {type(age)}\")\n",
    "print(f\"身高: {height}, 类型: {type(height)}\")\n",
    "print(f\"姓名: {name}, 类型: {type(name)}\")\n",
    "print(f\"是否为学生: {is_student}, 类型: {type(is_student)}\")\n",
    "print(f\"空值: {empty_value}, 类型: {type(empty_value)}\")\n",
    "```\n",
    "\n",
    "##### 2.2 基本输入输出\n",
    "```python\n",
    "# print()函数的使用\n",
    "print(\"Hello, World!\")\n",
    "\n",
    "# input()函数获取用户输入\n",
    "user_input = input(\"请输入您的名字：\")\n",
    "print(f\"您好，{user_input}!\")\n",
    "```\n",
    "\n",
    "##### 2.3 运算符与表达式"
   ]
  },
  {
   "cell_type": "code",
   "execution_count": 56,
   "id": "fd9f79b9",
   "metadata": {
    "deletable": true,
    "editable": true,
    "frozen": false
   },
   "outputs": [
    {
     "name": "stdout",
     "output_type": "stream",
     "text": [
      "a + b = 13\n",
      "a - b = 7\n",
      "a * b = 30\n",
      "a / b = 3.3333333333333335\n",
      "a // b = 3\n",
      "a % b = 1\n",
      "a ** b = 1000\n",
      "a == b: False\n",
      "a != b: True\n",
      "a > b: True\n",
      "a < b: False\n",
      "x and y: False\n",
      "x or y: True\n",
      "not x: False\n"
     ]
    }
   ],
   "source": [
    "a, b = 10, 3\n",
    "print(f\"a + b = {a + b}\")  # 加法\n",
    "print(f\"a - b = {a - b}\")  # 减法\n",
    "print(f\"a * b = {a * b}\")  # 乘法\n",
    "print(f\"a / b = {a / b}\")  # 除法\n",
    "print(f\"a // b = {a // b}\")  # 整除\n",
    "print(f\"a % b = {a % b}\")  # 取余\n",
    "print(f\"a ** b = {a ** b}\")  # 幂运算\n",
    "\n",
    "print(f\"a == b: {a == b}\")  # 等于\n",
    "print(f\"a != b: {a != b}\")  # 不等于\n",
    "print(f\"a > b: {a > b}\")    # 大于\n",
    "print(f\"a < b: {a < b}\")    # 小于\n",
    "\n",
    "x, y = True, False\n",
    "print(f\"x and y: {x and y}\")  # 与\n",
    "print(f\"x or y: {x or y}\")    # 或\n",
    "print(f\"not x: {not x}\")      # 非"
   ]
  },
  {
   "cell_type": "markdown",
   "id": "1a302445",
   "metadata": {
    "deletable": true,
    "editable": true,
    "frozen": false,
    "lines_to_next_cell": 0
   },
   "source": [
    "### 第二天：数据结构和控制流程\n",
    "\n",
    "#### 3. 数据结构\n",
    "\n",
    "##### 3.1 字符串（String）"
   ]
  },
  {
   "cell_type": "code",
   "execution_count": null,
   "id": "3f1c34c7",
   "metadata": {
    "deletable": true,
    "editable": true,
    "frozen": false
   },
   "outputs": [],
   "source": [
    "text = \"Hello, Python!\"\n",
    "print(f\"原始字符串: {text}\")\n",
    "print(f\"大写: {text.upper()}\")\n",
    "print(f\"小写: {text.lower()}\")\n",
    "print(f\"分割: {text.split(', ')}\")\n",
    "print(f\"替换: {text.replace('Python', 'World')}\")\n",
    "\n",
    "# f-strings（Python 3.6+）\n",
    "name = \"李四\"\n",
    "age = 30\n",
    "print(f\"{name}今年{age}岁。\")"
   ]
  },
  {
   "cell_type": "markdown",
   "id": "a8899cc6",
   "metadata": {
    "deletable": true,
    "editable": true,
    "frozen": false,
    "lines_to_next_cell": 0
   },
   "source": [
    "##### 3.2 列表（List）"
   ]
  },
  {
   "cell_type": "code",
   "execution_count": null,
   "id": "7a4598cf",
   "metadata": {
    "deletable": true,
    "editable": true,
    "frozen": false
   },
   "outputs": [],
   "source": [
    "fruits = [\"苹果\", \"香蕉\", \"橙子\"]\n",
    "fruits.append(\"葡萄\")\n",
    "print(f\"水果列表: {fruits}\")\n",
    "print(f\"第一个水果: {fruits[0]}\")\n",
    "print(f\"最后一个水果: {fruits[-1]}\")\n",
    "\n",
    "fruits.sort()\n",
    "print(f\"排序后: {fruits}\")\n",
    "\n",
    "# 列表切片和遍历\n",
    "print(f\"前两个水果: {fruits[:2]}\")\n",
    "for fruit in fruits:\n",
    "    print(fruit)"
   ]
  },
  {
   "cell_type": "markdown",
   "id": "4e7eb3e1",
   "metadata": {
    "deletable": true,
    "editable": true,
    "frozen": false,
    "lines_to_next_cell": 0
   },
   "source": [
    "##### 3.3 元组（Tuple）"
   ]
  },
  {
   "cell_type": "code",
   "execution_count": null,
   "id": "2127cf31",
   "metadata": {
    "deletable": true,
    "editable": true,
    "frozen": false
   },
   "outputs": [],
   "source": [
    "coordinates = (10, 20)\n",
    "x, y = coordinates  # 元组解包\n",
    "print(f\"x = {x}, y = {y}\")"
   ]
  },
  {
   "cell_type": "markdown",
   "id": "78721fe6",
   "metadata": {
    "deletable": true,
    "editable": true,
    "frozen": false,
    "lines_to_next_cell": 0
   },
   "source": [
    "##### 3.4 字典（Dictionary）"
   ]
  },
  {
   "cell_type": "code",
   "execution_count": null,
   "id": "df4146b3",
   "metadata": {
    "deletable": true,
    "editable": true,
    "frozen": false
   },
   "outputs": [],
   "source": [
    "person = {\"name\": \"王五\", \"age\": 35, \"city\": \"北京\"}\n",
    "print(f\"人物信息: {person}\")\n",
    "print(f\"姓名: {person['name']}\")\n",
    "\n",
    "print(f\"键: {person.keys()}\")\n",
    "print(f\"值: {person.values()}\")\n",
    "print(f\"键值对: {person.items()}\")"
   ]
  },
  {
   "cell_type": "markdown",
   "id": "c381fe3c",
   "metadata": {
    "deletable": true,
    "editable": true,
    "frozen": false,
    "lines_to_next_cell": 0
   },
   "source": [
    "##### 3.5 集合（Set）"
   ]
  },
  {
   "cell_type": "code",
   "execution_count": null,
   "id": "4aa5a77a",
   "metadata": {
    "deletable": true,
    "editable": true,
    "frozen": false
   },
   "outputs": [],
   "source": [
    "set1 = {1, 2, 3, 4, 5}\n",
    "set2 = {4, 5, 6, 7, 8}\n",
    "\n",
    "print(f\"并集: {set1 | set2}\")\n",
    "print(f\"交集: {set1 & set2}\")\n",
    "print(f\"差集: {set1 - set2}\")"
   ]
  },
  {
   "cell_type": "markdown",
   "id": "02033a81",
   "metadata": {
    "deletable": true,
    "editable": true,
    "frozen": false,
    "lines_to_next_cell": 0
   },
   "source": [
    "#### 4. 控制流程\n",
    "\n",
    "##### 4.1 条件判断"
   ]
  },
  {
   "cell_type": "code",
   "execution_count": null,
   "id": "7a40b4f3",
   "metadata": {
    "deletable": true,
    "editable": true,
    "frozen": false
   },
   "outputs": [],
   "source": [
    "score = 85\n",
    "if score >= 90:\n",
    "    print(\"优秀\")\n",
    "elif score >= 60:\n",
    "    print(\"及格\")\n",
    "else:\n",
    "    print(\"不及格\")"
   ]
  },
  {
   "cell_type": "markdown",
   "id": "1949320e",
   "metadata": {
    "deletable": true,
    "editable": true,
    "frozen": false,
    "lines_to_next_cell": 0
   },
   "source": [
    "##### 4.2 循环语句"
   ]
  },
  {
   "cell_type": "code",
   "execution_count": null,
   "id": "87d4bed4",
   "metadata": {
    "deletable": true,
    "editable": true,
    "frozen": false
   },
   "outputs": [],
   "source": [
    "# for循环\n",
    "for i in range(5):\n",
    "    print(i, end=\" \")\n",
    "print()\n",
    "\n",
    "# while循环\n",
    "count = 0\n",
    "while count < 5:\n",
    "    print(count, end=\" \")\n",
    "    count += 1\n",
    "print()\n",
    "\n",
    "# break和continue\n",
    "for i in range(10):\n",
    "    if i == 5:\n",
    "        break\n",
    "    print(i, end=\" \")\n",
    "print()\n",
    "\n",
    "for i in range(10):\n",
    "    if i % 2 == 0:\n",
    "        continue\n",
    "    print(i, end=\" \")\n",
    "print()"
   ]
  },
  {
   "cell_type": "markdown",
   "id": "ee0300b2",
   "metadata": {
    "deletable": true,
    "editable": true,
    "frozen": false,
    "lines_to_next_cell": 0
   },
   "source": [
    "##### 4.3 列表推导式"
   ]
  },
  {
   "cell_type": "code",
   "execution_count": null,
   "id": "6e659021",
   "metadata": {
    "deletable": true,
    "editable": true,
    "frozen": false
   },
   "outputs": [],
   "source": [
    "squares = [x**2 for x in range(10)]\n",
    "print(f\"0到9的平方: {squares}\")\n",
    "\n",
    "even_squares = [x**2 for x in range(10) if x % 2 == 0]\n",
    "print(f\"0到9中偶数的平方: {even_squares}\")"
   ]
  },
  {
   "cell_type": "markdown",
   "id": "ce0e7d75",
   "metadata": {
    "deletable": true,
    "editable": true,
    "frozen": false,
    "lines_to_next_cell": 0
   },
   "source": [
    "### 第三天：函数、模块和面向对象编程\n",
    "\n",
    "#### 5. 函数\n",
    "\n",
    "##### 5.1 函数的定义与调用"
   ]
  },
  {
   "cell_type": "code",
   "execution_count": null,
   "id": "d50126e2",
   "metadata": {
    "deletable": true,
    "editable": true,
    "frozen": false
   },
   "outputs": [],
   "source": [
    "def greet(name):\n",
    "    return f\"你好，{name}!\"\n",
    "\n",
    "print(greet(\"张三\"))"
   ]
  },
  {
   "cell_type": "markdown",
   "id": "ab185e6a",
   "metadata": {
    "deletable": true,
    "editable": true,
    "frozen": false,
    "lines_to_next_cell": 0
   },
   "source": [
    "##### 5.2 参数类型"
   ]
  },
  {
   "cell_type": "code",
   "execution_count": null,
   "id": "72faf58a",
   "metadata": {
    "deletable": true,
    "editable": true,
    "frozen": false
   },
   "outputs": [],
   "source": [
    "def introduce(name, age, city=\"北京\"):\n",
    "    return f\"{name}今年{age}岁，来自{city}。\"\n",
    "\n",
    "print(introduce(\"李四\", 30))  # 位置参数\n",
    "print(introduce(age=25, name=\"王五\"))  # 关键字参数\n",
    "print(introduce(\"赵六\", 40, \"上海\"))  # 使用默认参数"
   ]
  },
  {
   "cell_type": "markdown",
   "id": "ba88b5b1",
   "metadata": {
    "deletable": true,
    "editable": true,
    "frozen": false,
    "lines_to_next_cell": 0
   },
   "source": [
    "##### 5.3 作用域"
   ]
  },
  {
   "cell_type": "code",
   "execution_count": null,
   "id": "2d5e9066",
   "metadata": {
    "deletable": true,
    "editable": true,
    "frozen": false
   },
   "outputs": [],
   "source": [
    "global_var = \"我是全局变量\"\n",
    "\n",
    "def test_scope():\n",
    "    local_var = \"我是局部变量\"\n",
    "    print(local_var)\n",
    "    print(global_var)\n",
    "\n",
    "test_scope()\n",
    "print(global_var)\n",
    "# print(local_var)  # 这行会报错，因为local_var是局部变量"
   ]
  },
  {
   "cell_type": "markdown",
   "id": "801b65e3",
   "metadata": {
    "deletable": true,
    "editable": true,
    "frozen": false,
    "lines_to_next_cell": 0
   },
   "source": [
    "#### 6. 模块与包\n",
    "\n",
    "##### 6.1 模块的导入"
   ]
  },
  {
   "cell_type": "code",
   "execution_count": null,
   "id": "d9acd007",
   "metadata": {
    "deletable": true,
    "editable": true,
    "frozen": false
   },
   "outputs": [],
   "source": [
    "import math\n",
    "print(f\"圆周率: {math.pi}\")\n",
    "\n",
    "from random import randint\n",
    "print(f\"1到10的随机数: {randint(1, 10)}\")"
   ]
  },
  {
   "cell_type": "markdown",
   "id": "e5a7c11f",
   "metadata": {
    "deletable": true,
    "editable": true,
    "frozen": false,
    "lines_to_next_cell": 0
   },
   "source": [
    "##### 6.2 自定义模块\n",
    "创建一个名为`my_module.py`的文件，内容如下："
   ]
  },
  {
   "cell_type": "code",
   "execution_count": null,
   "id": "81f189cf",
   "metadata": {
    "deletable": true,
    "editable": true,
    "frozen": false
   },
   "outputs": [],
   "source": [
    "def say_hello(name):\n",
    "    return f\"Hello, {name}!\"\n",
    "\n",
    "PI = 3.14159"
   ]
  },
  {
   "cell_type": "markdown",
   "id": "9eb0b221",
   "metadata": {
    "deletable": true,
    "editable": true,
    "frozen": false,
    "lines_to_next_cell": 0
   },
   "source": [
    "使用自定义模块："
   ]
  },
  {
   "cell_type": "code",
   "execution_count": null,
   "id": "3b597d7b",
   "metadata": {
    "deletable": true,
    "editable": true,
    "frozen": false
   },
   "outputs": [],
   "source": [
    "import my_module\n",
    "\n",
    "print(my_module.say_hello(\"Python\"))\n",
    "print(f\"PI值: {my_module.PI}\")"
   ]
  },
  {
   "cell_type": "markdown",
   "id": "94b223cb",
   "metadata": {
    "deletable": true,
    "editable": true,
    "frozen": false,
    "lines_to_next_cell": 0
   },
   "source": [
    "#### 7. 文件操作\n",
    "\n",
    "##### 7.1 文件读写基础"
   ]
  },
  {
   "cell_type": "code",
   "execution_count": null,
   "id": "b2041fce",
   "metadata": {
    "deletable": true,
    "editable": true,
    "frozen": false
   },
   "outputs": [],
   "source": [
    "# 写入文件\n",
    "with open(\"example.txt\", \"w\") as file:\n",
    "    file.write(\"这是第一行。\\n\")\n",
    "    file.write(\"这是第二行。\\n\")\n",
    "\n",
    "# 读取文件\n",
    "with open(\"example.txt\", \"r\") as file:\n",
    "    content = file.read()\n",
    "    print(content)"
   ]
  },
  {
   "cell_type": "markdown",
   "id": "56949af2",
   "metadata": {
    "deletable": true,
    "editable": true,
    "frozen": false,
    "lines_to_next_cell": 0
   },
   "source": [
    "##### 7.2 上下文管理"
   ]
  },
  {
   "cell_type": "code",
   "execution_count": null,
   "id": "9624691d",
   "metadata": {
    "deletable": true,
    "editable": true,
    "frozen": false
   },
   "outputs": [],
   "source": [
    "with open(\"example.txt\", \"r\") as file:\n",
    "    for line in file:\n",
    "        print(line.strip())"
   ]
  },
  {
   "cell_type": "markdown",
   "id": "0e59deda",
   "metadata": {
    "deletable": true,
    "editable": true,
    "frozen": false,
    "lines_to_next_cell": 0
   },
   "source": [
    "#### 8. 面向对象编程入门\n",
    "\n",
    "##### 8.1 类和对象"
   ]
  },
  {
   "cell_type": "code",
   "execution_count": null,
   "id": "e7522a08",
   "metadata": {
    "deletable": true,
    "editable": true,
    "frozen": false
   },
   "outputs": [],
   "source": [
    "class Student:\n",
    "    def __init__(self, name, age):\n",
    "        self.name = name\n",
    "        self.age = age\n",
    "    \n",
    "    def introduce(self):\n",
    "        return f\"我叫{self.name}，今年{self.age}岁。\"\n",
    "\n",
    "student1 = Student(\"张三\", 20)\n",
    "print(student1.introduce())"
   ]
  },
  {
   "cell_type": "markdown",
   "id": "ba40c45a",
   "metadata": {
    "deletable": true,
    "editable": true,
    "frozen": false,
    "lines_to_next_cell": 0
   },
   "source": [
    "##### 8.2 类的属性和方法"
   ]
  },
  {
   "cell_type": "code",
   "execution_count": 57,
   "id": "0ed28ddd",
   "metadata": {
    "deletable": true,
    "editable": true,
    "frozen": false
   },
   "outputs": [
    {
     "name": "stdout",
     "output_type": "stream",
     "text": [
      "矩形面积: 15\n",
      "矩形周长: 16\n"
     ]
    }
   ],
   "source": [
    "class Rectangle:\n",
    "    def __init__(self, width, height):\n",
    "        self.width = width\n",
    "        self.height = height\n",
    "    \n",
    "    def area(self):\n",
    "        return self.width * self.height\n",
    "    \n",
    "    def perimeter(self):\n",
    "        return 2 * (self.width + self.height)\n",
    "\n",
    "rect = Rectangle(5, 3)\n",
    "print(f\"矩形面积: {rect.area()}\")\n",
    "print(f\"矩形周长: {rect.perimeter()}\")"
   ]
  },
  {
   "cell_type": "markdown",
   "id": "5939bedd",
   "metadata": {
    "deletable": true,
    "editable": true,
    "frozen": false,
    "lines_to_next_cell": 0
   },
   "source": [
    "#### 9. 综合练习\n",
    "\n",
    "##### 9.1 项目实践：简单通讯录程序"
   ]
  },
  {
   "cell_type": "code",
   "execution_count": null,
   "id": "aa4d8d8c",
   "metadata": {
    "deletable": true,
    "editable": true,
    "frozen": false
   },
   "outputs": [
    {
     "name": "stdout",
     "output_type": "stream",
     "text": [
      "\n",
      "1. 添加联系人\n",
      "2. 显示所有联系人\n",
      "3. 搜索联系人\n",
      "4. 退出\n"
     ]
    },
    {
     "name": "stdin",
     "output_type": "stream",
     "text": [
      "请选择操作 (1-4):  1\n",
      "请输入姓名:  999\n",
      "请输入电话:  1598\n",
      "请输入邮箱:  5\n"
     ]
    },
    {
     "name": "stdout",
     "output_type": "stream",
     "text": [
      "已添加联系人: 999\n",
      "\n",
      "1. 添加联系人\n",
      "2. 显示所有联系人\n",
      "3. 搜索联系人\n",
      "4. 退出\n"
     ]
    },
    {
     "name": "stdin",
     "output_type": "stream",
     "text": [
      "请选择操作 (1-4):  2\n"
     ]
    },
    {
     "name": "stdout",
     "output_type": "stream",
     "text": [
      "999: 电话 1598, 邮箱 5\n",
      "\n",
      "1. 添加联系人\n",
      "2. 显示所有联系人\n",
      "3. 搜索联系人\n",
      "4. 退出\n"
     ]
    }
   ],
   "source": [
    "class Contact:\n",
    "    def __init__(self, name, phone, email):\n",
    "        self.name = name\n",
    "        self.phone = phone\n",
    "        self.email = email\n",
    "\n",
    "    def __str__(self):\n",
    "        return f\"{self.name}: 电话 {self.phone}, 邮箱 {self.email}\"\n",
    "\n",
    "class AddressBook:\n",
    "    def __init__(self):\n",
    "        self.contacts = []\n",
    "\n",
    "    def add_contact(self, contact):\n",
    "        self.contacts.append(contact)\n",
    "        print(f\"已添加联系人: {contact.name}\")\n",
    "\n",
    "    def display_contacts(self):\n",
    "        if not self.contacts:\n",
    "            print(\"通讯录为空\")\n",
    "        else:\n",
    "            for contact in self.contacts:\n",
    "                print(contact)\n",
    "\n",
    "    def search_contact(self, name):\n",
    "        for contact in self.contacts:\n",
    "            if contact.name.lower() == name.lower():\n",
    "                return contact\n",
    "        return None\n",
    "\n",
    "# 主程序\n",
    "address_book = AddressBook()\n",
    "\n",
    "while True:\n",
    "    print(\"\\n1. 添加联系人\")\n",
    "    print(\"2. 显示所有联系人\")\n",
    "    print(\"3. 搜索联系人\")\n",
    "    print(\"4. 退出\")\n",
    "    \n",
    "    choice = input(\"请选择操作 (1-4): \")\n",
    "    \n",
    "    if choice == '1':\n",
    "        name = input(\"请输入姓名: \")\n",
    "        phone = input(\"请输入电话: \")\n",
    "        email = input(\"请输入邮箱: \")\n",
    "        contact = Contact(name, phone, email)\n",
    "        address_book.add_contact(contact)\n",
    "    elif choice == '2':\n",
    "        address_book.display_contacts()\n",
    "    elif choice == '3':\n",
    "        name = input(\"请输入要搜索的姓名: \")\n",
    "        contact = address_book.search_contact(name)\n",
    "        if contact:\n",
    "            print(contact)\n",
    "        else:\n",
    "            print(\"未找到该联系人\")\n",
    "    elif choice == '4':\n",
    "        print(\"感谢使用，再见!\")\n",
    "        break\n",
    "    else:\n",
    "        print(\"无效选择，请重新输入\")"
   ]
  },
  {
   "cell_type": "markdown",
   "id": "c025320e",
   "metadata": {
    "deletable": true,
    "editable": true,
    "frozen": false
   },
   "source": [
    "##### 9.2 课程总结\n",
    "- 回顾重点内容\n",
    "- 答疑解惑\n",
    "- 指导学生独立完成练习\n",
    "\n",
    "## 结语\n",
    "\n",
    "这个Python初级速成课程涵盖了Python编程的基础知识，从基本语法到面向对象编程的入门。通过这三天的学习，您应该能够理解Python的核心概念并开始编写简单的程序。\n",
    "\n",
    "为了进一步提高您的Python技能，建议：\n",
    "1. 继续练习和编写更多的Python程序\n",
    "2. 阅读Python官方文档和其他高质量的学习资源\n",
    "3. 参与开源项目或解决实际问题\n",
    "4. 探索更高级的主题，如数据分析、Web开发或机器学习\n",
    "\n",
    "记住，编程技能的提升需要时间和实践。保持耐心，持续学习，您一定会在Python编程的道路上取得进步。\n",
    "\n",
    "祝您的Python学习之旅愉快且富有成效！"
   ]
  }
 ],
 "metadata": {
  "jupytext": {
   "cell_metadata_filter": "-all",
   "main_language": "python",
   "notebook_metadata_filter": "-all"
  },
  "kernelspec": {
   "display_name": "Python 3 (ipykernel)",
   "language": "python",
   "name": "python3"
  },
  "language_info": {
   "codemirror_mode": {
    "name": "ipython",
    "version": 3
   },
   "file_extension": ".py",
   "mimetype": "text/x-python",
   "name": "python",
   "nbconvert_exporter": "python",
   "pygments_lexer": "ipython3",
   "version": "3.12.5"
  }
 },
 "nbformat": 4,
 "nbformat_minor": 5
}
